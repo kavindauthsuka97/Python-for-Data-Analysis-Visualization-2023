{
 "cells": [
  {
   "attachments": {
    "image.png": {
     "image/png": "[encoded data removed]"
    }
   },
   "cell_type": "markdown",
   "id": "131a102b",
   "metadata": {},
   "source": [
    "## Overview\n",
    "* It work primarily with numerical data that is stored as a multi-dimensional array data structure\n",
    "* Two dimensional array has two axis. 0 axis -> rows and 1 -> columns\n",
    "* Documentation -> https://numpy.org/devdocs/user/whatisnumpy.html\n",
    "![image.png](attachment:image.png)"
   ]
  },
  {
   "cell_type": "code",
   "execution_count": 1,
   "id": "81a604a7",
   "metadata": {},
   "outputs": [],
   "source": [
    "import numpy as np"
   ]
  },
  {
   "cell_type": "code",
   "execution_count": 2,
   "id": "99e19c5a",
   "metadata": {},
   "outputs": [],
   "source": [
    "list1 = [1,2,3,4,5]\n",
    "x = np.array(list1) #convert list to one dimesional array"
   ]
  },
  {
   "cell_type": "code",
   "execution_count": 3,
   "id": "eeb5442e",
   "metadata": {},
   "outputs": [
    {
     "data": {
      "text/plain": [
       "numpy.ndarray"
      ]
     },
     "execution_count": 3,
     "metadata": {},
     "output_type": "execute_result"
    }
   ],
   "source": [
    "type(x)"
   ]
  },
  {
   "cell_type": "code",
   "execution_count": 4,
   "id": "98fad0a2",
   "metadata": {},
   "outputs": [
    {
     "data": {
      "text/plain": [
       "array([1, 2, 3, 4, 5])"
      ]
     },
     "execution_count": 4,
     "metadata": {},
     "output_type": "execute_result"
    }
   ],
   "source": [
    "x"
   ]
  },
  {
   "cell_type": "code",
   "execution_count": 6,
   "id": "7242706c",
   "metadata": {},
   "outputs": [
    {
     "data": {
      "text/plain": [
       "(5,)"
      ]
     },
     "execution_count": 6,
     "metadata": {},
     "output_type": "execute_result"
    }
   ],
   "source": [
    "x.shape #there is 5 in 0 axis. no items for 1 axis. therefore this is one dimesional array."
   ]
  },
  {
   "cell_type": "code",
   "execution_count": 7,
   "id": "1ef0445b",
   "metadata": {},
   "outputs": [
    {
     "data": {
      "text/plain": [
       "array([2, 2, 2, 2, 2, 2])"
      ]
     },
     "execution_count": 7,
     "metadata": {},
     "output_type": "execute_result"
    }
   ],
   "source": [
    "np.array([2,2,2,2,2,2]) #list convert to an array"
   ]
  },
  {
   "cell_type": "code",
   "execution_count": 8,
   "id": "d4c7523b",
   "metadata": {},
   "outputs": [
    {
     "data": {
      "text/plain": [
       "array([3, 3, 3, 3, 3])"
      ]
     },
     "execution_count": 8,
     "metadata": {},
     "output_type": "execute_result"
    }
   ],
   "source": [
    "np.array((3,3,3,3,3)) #tuple convert to an array"
   ]
  },
  {
   "cell_type": "code",
   "execution_count": 10,
   "id": "da6ad41f",
   "metadata": {},
   "outputs": [
    {
     "data": {
      "text/plain": [
       "array({1}, dtype=object)"
      ]
     },
     "execution_count": 10,
     "metadata": {},
     "output_type": "execute_result"
    }
   ],
   "source": [
    "np.array({1,1,1,1,1}) #we can't convert a set as an array. we have to convert set to a list before converting to an array"
   ]
  },
  {
   "cell_type": "markdown",
   "id": "579df627",
   "metadata": {},
   "source": [
    "#### 2 dimensional matrix"
   ]
  },
  {
   "cell_type": "code",
   "execution_count": 11,
   "id": "2cf43a27",
   "metadata": {},
   "outputs": [],
   "source": [
    "arr2d = np.array([[1,1,1],[2,2,2],[3,3,3]])"
   ]
  },
  {
   "cell_type": "code",
   "execution_count": 12,
   "id": "f158b5f8",
   "metadata": {},
   "outputs": [
    {
     "data": {
      "text/plain": [
       "array([[1, 1, 1],\n",
       "       [2, 2, 2],\n",
       "       [3, 3, 3]])"
      ]
     },
     "execution_count": 12,
     "metadata": {},
     "output_type": "execute_result"
    }
   ],
   "source": [
    "arr2d"
   ]
  },
  {
   "cell_type": "code",
   "execution_count": 13,
   "id": "a559bb44",
   "metadata": {},
   "outputs": [
    {
     "data": {
      "text/plain": [
       "(3, 3)"
      ]
     },
     "execution_count": 13,
     "metadata": {},
     "output_type": "execute_result"
    }
   ],
   "source": [
    "arr2d.shape # 3 by 3 two dimesional array."
   ]
  },
  {
   "cell_type": "code",
   "execution_count": 17,
   "id": "771f1ee1",
   "metadata": {},
   "outputs": [],
   "source": [
    "list1 = [1,2,3,4,5,6]\n",
    "list2 = [4,5,6,7,8,9]"
   ]
  },
  {
   "cell_type": "code",
   "execution_count": 18,
   "id": "218b639c",
   "metadata": {},
   "outputs": [],
   "source": [
    "arr2d_2dim = np.array([list1,list2])"
   ]
  },
  {
   "cell_type": "code",
   "execution_count": 19,
   "id": "55458647",
   "metadata": {},
   "outputs": [
    {
     "data": {
      "text/plain": [
       "array([[1, 2, 3, 4, 5, 6],\n",
       "       [4, 5, 6, 7, 8, 9]])"
      ]
     },
     "execution_count": 19,
     "metadata": {},
     "output_type": "execute_result"
    }
   ],
   "source": [
    "arr2d_2dim #two dimesional array. 2 rows and 5 columns"
   ]
  },
  {
   "cell_type": "markdown",
   "id": "40aab9a2",
   "metadata": {},
   "source": [
    "## Array Slicing and Indexing"
   ]
  },
  {
   "cell_type": "code",
   "execution_count": 20,
   "id": "38fcf9fc",
   "metadata": {},
   "outputs": [],
   "source": [
    "import numpy as np"
   ]
  },
  {
   "cell_type": "code",
   "execution_count": 21,
   "id": "b69baae2",
   "metadata": {},
   "outputs": [],
   "source": [
    "arr1 = np.array([1,2,3,4])\n",
    "arr2 = np.array([[1,2,3,4]])"
   ]
  },
  {
   "cell_type": "code",
   "execution_count": 22,
   "id": "28bb501b",
   "metadata": {},
   "outputs": [
    {
     "data": {
      "text/plain": [
       "(4,)"
      ]
     },
     "execution_count": 22,
     "metadata": {},
     "output_type": "execute_result"
    }
   ],
   "source": [
    "arr1.shape # one dimesional array"
   ]
  },
  {
   "cell_type": "code",
   "execution_count": 23,
   "id": "44eca103",
   "metadata": {},
   "outputs": [
    {
     "data": {
      "text/plain": [
       "(1, 4)"
      ]
     },
     "execution_count": 23,
     "metadata": {},
     "output_type": "execute_result"
    }
   ],
   "source": [
    "arr2.shape # two dimensional array"
   ]
  },
  {
   "cell_type": "code",
   "execution_count": 24,
   "id": "8675df9e",
   "metadata": {},
   "outputs": [],
   "source": [
    "array_1d = np.array([2,5,6,7,6,4,3])\n",
    "array_2d = np.array([[2,5,6,7,60,47,3],[11,50,6,9,62,42,30],[16,53,86,69,2,2,50]])"
   ]
  },
  {
   "cell_type": "code",
   "execution_count": 25,
   "id": "ec950e01",
   "metadata": {},
   "outputs": [
    {
     "data": {
      "text/plain": [
       "array([2, 5, 6, 7, 6, 4, 3])"
      ]
     },
     "execution_count": 25,
     "metadata": {},
     "output_type": "execute_result"
    }
   ],
   "source": [
    "array_1d"
   ]
  },
  {
   "cell_type": "code",
   "execution_count": 26,
   "id": "5c6f8372",
   "metadata": {},
   "outputs": [
    {
     "data": {
      "text/plain": [
       "array([[ 2,  5,  6,  7, 60, 47,  3],\n",
       "       [11, 50,  6,  9, 62, 42, 30],\n",
       "       [16, 53, 86, 69,  2,  2, 50]])"
      ]
     },
     "execution_count": 26,
     "metadata": {},
     "output_type": "execute_result"
    }
   ],
   "source": [
    "array_2d"
   ]
  },
  {
   "cell_type": "code",
   "execution_count": 27,
   "id": "cdbe7feb",
   "metadata": {},
   "outputs": [
    {
     "data": {
      "text/plain": [
       "6"
      ]
     },
     "execution_count": 27,
     "metadata": {},
     "output_type": "execute_result"
    }
   ],
   "source": [
    "#get the elemnts at 4th index\n",
    "array_1d[4]"
   ]
  },
  {
   "cell_type": "code",
   "execution_count": 28,
   "id": "9067eee3",
   "metadata": {},
   "outputs": [
    {
     "data": {
      "text/plain": [
       "array([6, 4, 3])"
      ]
     },
     "execution_count": 28,
     "metadata": {},
     "output_type": "execute_result"
    }
   ],
   "source": [
    "#get all the elements after the 4th index\n",
    "array_1d[4:]"
   ]
  },
  {
   "cell_type": "code",
   "execution_count": 30,
   "id": "52fef993",
   "metadata": {},
   "outputs": [
    {
     "data": {
      "text/plain": [
       "array([6, 7, 6, 4])"
      ]
     },
     "execution_count": 30,
     "metadata": {},
     "output_type": "execute_result"
    }
   ],
   "source": [
    "#gte the elements which are in the 2 to 5\n",
    "array_1d[2:6]"
   ]
  },
  {
   "cell_type": "code",
   "execution_count": 31,
   "id": "67eaa848",
   "metadata": {},
   "outputs": [
    {
     "data": {
      "text/plain": [
       "array([3, 4, 6, 7, 6, 5, 2])"
      ]
     },
     "execution_count": 31,
     "metadata": {},
     "output_type": "execute_result"
    }
   ],
   "source": [
    "# we can reverse the order\n",
    "array_1d[::-1]"
   ]
  },
  {
   "cell_type": "code",
   "execution_count": 32,
   "id": "e76cf71d",
   "metadata": {},
   "outputs": [
    {
     "data": {
      "text/plain": [
       "array([[ 2,  5,  6,  7, 60, 47,  3],\n",
       "       [11, 50,  6,  9, 62, 42, 30],\n",
       "       [16, 53, 86, 69,  2,  2, 50]])"
      ]
     },
     "execution_count": 32,
     "metadata": {},
     "output_type": "execute_result"
    }
   ],
   "source": [
    "array_2d"
   ]
  },
  {
   "cell_type": "code",
   "execution_count": 33,
   "id": "f561004e",
   "metadata": {},
   "outputs": [
    {
     "data": {
      "text/plain": [
       "50"
      ]
     },
     "execution_count": 33,
     "metadata": {},
     "output_type": "execute_result"
    }
   ],
   "source": [
    "#get the last element which is 50\n",
    "array_2d[2][6]"
   ]
  },
  {
   "cell_type": "code",
   "execution_count": 34,
   "id": "056a4e68",
   "metadata": {},
   "outputs": [
    {
     "data": {
      "text/plain": [
       "array([[16, 53, 86, 69,  2,  2, 50],\n",
       "       [11, 50,  6,  9, 62, 42, 30],\n",
       "       [ 2,  5,  6,  7, 60, 47,  3]])"
      ]
     },
     "execution_count": 34,
     "metadata": {},
     "output_type": "execute_result"
    }
   ],
   "source": [
    "#reversing indexing on 0 axis\n",
    "array_2d[::-1,]"
   ]
  },
  {
   "cell_type": "code",
   "execution_count": 35,
   "id": "c4817075",
   "metadata": {},
   "outputs": [
    {
     "data": {
      "text/plain": [
       "array([[ 3, 47, 60,  7,  6,  5,  2],\n",
       "       [30, 42, 62,  9,  6, 50, 11],\n",
       "       [50,  2,  2, 69, 86, 53, 16]])"
      ]
     },
     "execution_count": 35,
     "metadata": {},
     "output_type": "execute_result"
    }
   ],
   "source": [
    "#reversing indexing on 1 axis\n",
    "array_2d[:,::-1]"
   ]
  },
  {
   "cell_type": "markdown",
   "id": "d3df25ef",
   "metadata": {},
   "source": [
    "#### Boolean array indexing"
   ]
  },
  {
   "cell_type": "code",
   "execution_count": 36,
   "id": "6549d612",
   "metadata": {},
   "outputs": [
    {
     "data": {
      "text/plain": [
       "array([2, 5, 6, 7, 6, 4, 3])"
      ]
     },
     "execution_count": 36,
     "metadata": {},
     "output_type": "execute_result"
    }
   ],
   "source": [
    "array_1d"
   ]
  },
  {
   "cell_type": "code",
   "execution_count": 39,
   "id": "65ad61a1",
   "metadata": {},
   "outputs": [
    {
     "data": {
      "text/plain": [
       "array([False,  True,  True,  True,  True,  True, False])"
      ]
     },
     "execution_count": 39,
     "metadata": {},
     "output_type": "execute_result"
    }
   ],
   "source": [
    "array_1d > 3 #get the boolean value of the items which are greater than 3"
   ]
  },
  {
   "cell_type": "code",
   "execution_count": 40,
   "id": "23766d5c",
   "metadata": {
    "scrolled": true
   },
   "outputs": [
    {
     "data": {
      "text/plain": [
       "array([5, 6, 7, 6, 4])"
      ]
     },
     "execution_count": 40,
     "metadata": {},
     "output_type": "execute_result"
    }
   ],
   "source": [
    "array_1d[array_1d>3] #filtered the items which are greater than 3"
   ]
  },
  {
   "cell_type": "code",
   "execution_count": 41,
   "id": "308e4d24",
   "metadata": {},
   "outputs": [
    {
     "data": {
      "text/plain": [
       "array([[ 2,  5,  6,  7, 60, 47,  3],\n",
       "       [11, 50,  6,  9, 62, 42, 30],\n",
       "       [16, 53, 86, 69,  2,  2, 50]])"
      ]
     },
     "execution_count": 41,
     "metadata": {},
     "output_type": "execute_result"
    }
   ],
   "source": [
    "array_2d"
   ]
  },
  {
   "cell_type": "code",
   "execution_count": 43,
   "id": "e5eb2d59",
   "metadata": {},
   "outputs": [
    {
     "data": {
      "text/plain": [
       "array([[False,  True,  True,  True,  True,  True, False],\n",
       "       [ True,  True,  True,  True,  True,  True,  True],\n",
       "       [ True,  True,  True,  True, False, False,  True]])"
      ]
     },
     "execution_count": 43,
     "metadata": {},
     "output_type": "execute_result"
    }
   ],
   "source": [
    "array_2d > 3 #get the boolean values of the items which are greater than 3"
   ]
  },
  {
   "cell_type": "markdown",
   "id": "27ca39c1",
   "metadata": {},
   "source": [
    "#### Assigning values to the indexs in the list"
   ]
  },
  {
   "cell_type": "code",
   "execution_count": 44,
   "id": "3b1f405c",
   "metadata": {},
   "outputs": [],
   "source": [
    "array_1 = np.array([1,1,2,3,4,5])"
   ]
  },
  {
   "cell_type": "code",
   "execution_count": 45,
   "id": "10c05608",
   "metadata": {},
   "outputs": [],
   "source": [
    "array_1[0]=10 #assign 10 for the first index"
   ]
  },
  {
   "cell_type": "code",
   "execution_count": 46,
   "id": "46638af0",
   "metadata": {},
   "outputs": [
    {
     "data": {
      "text/plain": [
       "array([10,  1,  2,  3,  4,  5])"
      ]
     },
     "execution_count": 46,
     "metadata": {},
     "output_type": "execute_result"
    }
   ],
   "source": [
    "array_1"
   ]
  },
  {
   "cell_type": "code",
   "execution_count": 47,
   "id": "ad44f669",
   "metadata": {},
   "outputs": [],
   "source": [
    "#assign 10 for all the all the indexes\n",
    "array_1[:]=10"
   ]
  },
  {
   "cell_type": "code",
   "execution_count": 48,
   "id": "061b6dd4",
   "metadata": {},
   "outputs": [
    {
     "data": {
      "text/plain": [
       "array([10, 10, 10, 10, 10, 10])"
      ]
     },
     "execution_count": 48,
     "metadata": {},
     "output_type": "execute_result"
    }
   ],
   "source": [
    "array_1"
   ]
  },
  {
   "cell_type": "markdown",
   "id": "5f1022fc",
   "metadata": {},
   "source": [
    "## Array Manipulation"
   ]
  },
  {
   "cell_type": "code",
   "execution_count": 49,
   "id": "7b0b8573",
   "metadata": {},
   "outputs": [],
   "source": [
    "import numpy as np"
   ]
  },
  {
   "cell_type": "code",
   "execution_count": 50,
   "id": "9c352a9d",
   "metadata": {},
   "outputs": [],
   "source": [
    "arr1 = np.array([1,2,3,4,5,6,7,8,9,10])\n",
    "arr2 = np.array([[2,3,2,4,6],[5,6,3,2,4]])"
   ]
  },
  {
   "cell_type": "code",
   "execution_count": 51,
   "id": "deb68fc8",
   "metadata": {},
   "outputs": [
    {
     "data": {
      "text/plain": [
       "(10,)"
      ]
     },
     "execution_count": 51,
     "metadata": {},
     "output_type": "execute_result"
    }
   ],
   "source": [
    "arr1.shape"
   ]
  },
  {
   "cell_type": "code",
   "execution_count": 52,
   "id": "d4322025",
   "metadata": {},
   "outputs": [
    {
     "data": {
      "text/plain": [
       "(2, 5)"
      ]
     },
     "execution_count": 52,
     "metadata": {},
     "output_type": "execute_result"
    }
   ],
   "source": [
    "arr2.shape"
   ]
  },
  {
   "cell_type": "code",
   "execution_count": 54,
   "id": "560aceb3",
   "metadata": {},
   "outputs": [
    {
     "data": {
      "text/plain": [
       "array([[ 1,  2,  3,  4,  5],\n",
       "       [ 6,  7,  8,  9, 10]])"
      ]
     },
     "execution_count": 54,
     "metadata": {},
     "output_type": "execute_result"
    }
   ],
   "source": [
    "#reshape the array\n",
    "np.reshape(arr1,(2,5)) #two rows and five columns"
   ]
  },
  {
   "cell_type": "code",
   "execution_count": 56,
   "id": "50b1ece7",
   "metadata": {},
   "outputs": [
    {
     "data": {
      "text/plain": [
       "array([2, 3, 2, 4, 6, 5, 6, 3, 2, 4])"
      ]
     },
     "execution_count": 56,
     "metadata": {},
     "output_type": "execute_result"
    }
   ],
   "source": [
    "# convert more dimentioanl arrays to one dimensional array\n",
    "np.ndarray.flatten(arr2)"
   ]
  },
  {
   "cell_type": "code",
   "execution_count": 57,
   "id": "cb457cdd",
   "metadata": {},
   "outputs": [
    {
     "data": {
      "text/plain": [
       "array([2, 3, 2, 4, 6, 5, 6, 3, 2, 4])"
      ]
     },
     "execution_count": 57,
     "metadata": {},
     "output_type": "execute_result"
    }
   ],
   "source": [
    "np.ravel(arr2)"
   ]
  },
  {
   "cell_type": "code",
   "execution_count": 58,
   "id": "0e4749b4",
   "metadata": {},
   "outputs": [],
   "source": [
    "array_1 = np.array([[1,1,1],[2,2,2]])\n",
    "array_2 = np.array([[3,3,3],[4,4,4],[5,5,5]])"
   ]
  },
  {
   "cell_type": "code",
   "execution_count": 60,
   "id": "02c26036",
   "metadata": {},
   "outputs": [
    {
     "data": {
      "text/plain": [
       "array([[1, 1, 1],\n",
       "       [2, 2, 2],\n",
       "       [3, 3, 3],\n",
       "       [4, 4, 4],\n",
       "       [5, 5, 5]])"
      ]
     },
     "execution_count": 60,
     "metadata": {},
     "output_type": "execute_result"
    }
   ],
   "source": [
    "#concatenate two arrays\n",
    "np.concatenate((array_1,array_2),axis=0) #concatenate through the rows. we have to check the number of rows and columns before do the concatenating"
   ]
  },
  {
   "cell_type": "code",
   "execution_count": 61,
   "id": "8f051880",
   "metadata": {},
   "outputs": [
    {
     "data": {
      "text/plain": [
       "array([[1, 2],\n",
       "       [1, 2],\n",
       "       [1, 2]])"
      ]
     },
     "execution_count": 61,
     "metadata": {},
     "output_type": "execute_result"
    }
   ],
   "source": [
    "#transpose the arrays\n",
    "np.transpose(array_1)"
   ]
  },
  {
   "cell_type": "code",
   "execution_count": 62,
   "id": "3ac66161",
   "metadata": {},
   "outputs": [
    {
     "data": {
      "text/plain": [
       "array([[1, 2],\n",
       "       [1, 2],\n",
       "       [1, 2]])"
      ]
     },
     "execution_count": 62,
     "metadata": {},
     "output_type": "execute_result"
    }
   ],
   "source": [
    "array_1.transpose()"
   ]
  },
  {
   "cell_type": "code",
   "execution_count": 63,
   "id": "f827aebe",
   "metadata": {},
   "outputs": [],
   "source": [
    "# sorting\n",
    "array_unsort = np.array([[1,10,3],[2,3,1]])"
   ]
  },
  {
   "cell_type": "code",
   "execution_count": 64,
   "id": "e43b92ce",
   "metadata": {},
   "outputs": [
    {
     "data": {
      "text/plain": [
       "array([[ 1, 10,  3],\n",
       "       [ 2,  3,  1]])"
      ]
     },
     "execution_count": 64,
     "metadata": {},
     "output_type": "execute_result"
    }
   ],
   "source": [
    "array_unsort"
   ]
  },
  {
   "cell_type": "code",
   "execution_count": 65,
   "id": "be85bbbe",
   "metadata": {},
   "outputs": [
    {
     "data": {
      "text/plain": [
       "array([[ 1,  3, 10],\n",
       "       [ 1,  2,  3]])"
      ]
     },
     "execution_count": 65,
     "metadata": {},
     "output_type": "execute_result"
    }
   ],
   "source": [
    "np.sort(array_unsort) #sorted the ascending order through the columns"
   ]
  },
  {
   "cell_type": "code",
   "execution_count": 66,
   "id": "6f15c414",
   "metadata": {},
   "outputs": [
    {
     "data": {
      "text/plain": [
       "array([[ 1,  3,  1],\n",
       "       [ 2, 10,  3]])"
      ]
     },
     "execution_count": 66,
     "metadata": {},
     "output_type": "execute_result"
    }
   ],
   "source": [
    "np.sort(array_unsort,axis=0) #sorted the ascending order through thr rows"
   ]
  },
  {
   "cell_type": "markdown",
   "id": "b104f422",
   "metadata": {},
   "source": [
    "## Additonal Array Creation Function"
   ]
  },
  {
   "cell_type": "code",
   "execution_count": 68,
   "id": "52a2e074",
   "metadata": {},
   "outputs": [
    {
     "data": {
      "text/plain": [
       "array([[2, 2, 2, 2, 2],\n",
       "       [2, 2, 2, 2, 2]])"
      ]
     },
     "execution_count": 68,
     "metadata": {},
     "output_type": "execute_result"
    }
   ],
   "source": [
    "np.full((2,5),2)\n",
    "# (2,5) matrix and each value fill with 2"
   ]
  },
  {
   "cell_type": "code",
   "execution_count": 71,
   "id": "7bb8660c",
   "metadata": {},
   "outputs": [
    {
     "data": {
      "text/plain": [
       "array([ 0,  2,  4,  6,  8, 10])"
      ]
     },
     "execution_count": 71,
     "metadata": {},
     "output_type": "execute_result"
    }
   ],
   "source": [
    "np.arange(0,12,2)\n",
    "# start element = 0\n",
    "# end element = 12\n",
    "# step = 2"
   ]
  },
  {
   "cell_type": "code",
   "execution_count": 72,
   "id": "8fc516c6",
   "metadata": {},
   "outputs": [
    {
     "data": {
      "text/plain": [
       "array([[ 0,  2,  4],\n",
       "       [ 6,  8, 10]])"
      ]
     },
     "execution_count": 72,
     "metadata": {},
     "output_type": "execute_result"
    }
   ],
   "source": [
    "np.arange(0,12,2).reshape(2,3) #reshape the one dimensional array as our wish"
   ]
  },
  {
   "cell_type": "code",
   "execution_count": 73,
   "id": "19f70821",
   "metadata": {},
   "outputs": [
    {
     "data": {
      "text/plain": [
       "array([[0.91692055, 0.93243897, 0.81599992, 0.19802699, 0.96820248],\n",
       "       [0.10901402, 0.75597059, 0.73924047, 0.1942104 , 0.02379575]])"
      ]
     },
     "execution_count": 73,
     "metadata": {},
     "output_type": "execute_result"
    }
   ],
   "source": [
    "#randomly generated values to array\n",
    "np.random.rand(2,5) \n",
    "#array shape is (2,5)"
   ]
  },
  {
   "cell_type": "code",
   "execution_count": 74,
   "id": "e94b44a9",
   "metadata": {},
   "outputs": [
    {
     "data": {
      "text/plain": [
       "array([[ -8, -20,  10],\n",
       "       [ -6, -18,   5],\n",
       "       [ -1,  -3,  -6]])"
      ]
     },
     "execution_count": 74,
     "metadata": {},
     "output_type": "execute_result"
    }
   ],
   "source": [
    "#generate integer number random array\n",
    "np.random.randint(-20,20,(3,3))\n",
    "#generate random integer numbers between -20 to 20\n",
    "#array size is (3,3)"
   ]
  },
  {
   "cell_type": "markdown",
   "id": "2f9d7482",
   "metadata": {},
   "source": [
    "## Array Arithmetic and Mathematical Functions"
   ]
  },
  {
   "cell_type": "code",
   "execution_count": 76,
   "id": "83c5f05d",
   "metadata": {},
   "outputs": [],
   "source": [
    "array_1 = np.array([1,2,3])"
   ]
  },
  {
   "cell_type": "code",
   "execution_count": 77,
   "id": "19cf236d",
   "metadata": {},
   "outputs": [],
   "source": [
    "array_2 = np.array([4,5,6])"
   ]
  },
  {
   "cell_type": "code",
   "execution_count": 78,
   "id": "4c582556",
   "metadata": {},
   "outputs": [
    {
     "data": {
      "text/plain": [
       "array([5, 7, 9])"
      ]
     },
     "execution_count": 78,
     "metadata": {},
     "output_type": "execute_result"
    }
   ],
   "source": [
    "#add two arrays. it adds the elements in the same index\n",
    "array_1+array_2"
   ]
  },
  {
   "attachments": {
    "image.png": {
     "image/png": "[encoded data removed]"
    }
   },
   "cell_type": "markdown",
   "id": "b696dfd2",
   "metadata": {},
   "source": [
    "#### Broadcasting\n",
    "![image.png](attachment:image.png)"
   ]
  },
  {
   "cell_type": "code",
   "execution_count": 83,
   "id": "05c431bc",
   "metadata": {},
   "outputs": [],
   "source": [
    "arr1 = np.array([[4,8,9],[1,5,6],[4,2,7]])\n",
    "arr2 = np.array([3,2,1])"
   ]
  },
  {
   "cell_type": "code",
   "execution_count": 84,
   "id": "222b5187",
   "metadata": {},
   "outputs": [
    {
     "data": {
      "text/plain": [
       "array([[4, 8, 9],\n",
       "       [1, 5, 6],\n",
       "       [4, 2, 7]])"
      ]
     },
     "execution_count": 84,
     "metadata": {},
     "output_type": "execute_result"
    }
   ],
   "source": [
    "arr1"
   ]
  },
  {
   "cell_type": "code",
   "execution_count": 85,
   "id": "72d23b14",
   "metadata": {},
   "outputs": [
    {
     "data": {
      "text/plain": [
       "array([3, 2, 1])"
      ]
     },
     "execution_count": 85,
     "metadata": {},
     "output_type": "execute_result"
    }
   ],
   "source": [
    "arr2"
   ]
  },
  {
   "cell_type": "code",
   "execution_count": 86,
   "id": "f9679cac",
   "metadata": {},
   "outputs": [
    {
     "data": {
      "text/plain": [
       "array([[ 7, 10, 10],\n",
       "       [ 4,  7,  7],\n",
       "       [ 7,  4,  8]])"
      ]
     },
     "execution_count": 86,
     "metadata": {},
     "output_type": "execute_result"
    }
   ],
   "source": [
    "arr1+arr2 # arr2 add to the each row as in the image."
   ]
  },
  {
   "cell_type": "code",
   "execution_count": 87,
   "id": "9ed1d128",
   "metadata": {},
   "outputs": [
    {
     "data": {
      "text/plain": [
       "array([[ 9, 13, 14],\n",
       "       [ 6, 10, 11],\n",
       "       [ 9,  7, 12]])"
      ]
     },
     "execution_count": 87,
     "metadata": {},
     "output_type": "execute_result"
    }
   ],
   "source": [
    "# scalor element broad casting\n",
    "arr1+5 #5 adds to the each index"
   ]
  },
  {
   "cell_type": "code",
   "execution_count": 89,
   "id": "8d32a788",
   "metadata": {},
   "outputs": [],
   "source": [
    "#take the sum of the array through the axis\n",
    "array_3 = np.array([[1,2,3,4,5],[6,7,8,9,10],[11,12,13,14,15]])"
   ]
  },
  {
   "cell_type": "code",
   "execution_count": 90,
   "id": "6a104a12",
   "metadata": {},
   "outputs": [
    {
     "data": {
      "text/plain": [
       "array([[ 1,  2,  3,  4,  5],\n",
       "       [ 6,  7,  8,  9, 10],\n",
       "       [11, 12, 13, 14, 15]])"
      ]
     },
     "execution_count": 90,
     "metadata": {},
     "output_type": "execute_result"
    }
   ],
   "source": [
    "array_3"
   ]
  },
  {
   "cell_type": "code",
   "execution_count": 92,
   "id": "3a534b25",
   "metadata": {},
   "outputs": [
    {
     "data": {
      "text/plain": [
       "120"
      ]
     },
     "execution_count": 92,
     "metadata": {},
     "output_type": "execute_result"
    }
   ],
   "source": [
    "np.sum(array_3)"
   ]
  },
  {
   "cell_type": "code",
   "execution_count": 93,
   "id": "049192cf",
   "metadata": {},
   "outputs": [
    {
     "data": {
      "text/plain": [
       "array([18, 21, 24, 27, 30])"
      ]
     },
     "execution_count": 93,
     "metadata": {},
     "output_type": "execute_result"
    }
   ],
   "source": [
    "np.sum(array_3,axis=0) #sum along the row"
   ]
  },
  {
   "cell_type": "code",
   "execution_count": 94,
   "id": "9063d670",
   "metadata": {},
   "outputs": [
    {
     "data": {
      "text/plain": [
       "array([15, 40, 65])"
      ]
     },
     "execution_count": 94,
     "metadata": {},
     "output_type": "execute_result"
    }
   ],
   "source": [
    "np.sum(array_3,axis=1) #sum along the column"
   ]
  },
  {
   "cell_type": "code",
   "execution_count": 95,
   "id": "55a55eb3",
   "metadata": {},
   "outputs": [
    {
     "data": {
      "text/plain": [
       "array([[ 1,  3,  6, 10, 15],\n",
       "       [ 6, 13, 21, 30, 40],\n",
       "       [11, 23, 36, 50, 65]], dtype=int32)"
      ]
     },
     "execution_count": 95,
     "metadata": {},
     "output_type": "execute_result"
    }
   ],
   "source": [
    "#take cummulative sum of the elements along the column\n",
    "np.cumsum(array_3,axis=1)"
   ]
  },
  {
   "cell_type": "code",
   "execution_count": 96,
   "id": "eb4a4403",
   "metadata": {},
   "outputs": [
    {
     "data": {
      "text/plain": [
       "array([[ 1,  2,  3,  4,  5],\n",
       "       [ 7,  9, 11, 13, 15],\n",
       "       [18, 21, 24, 27, 30]], dtype=int32)"
      ]
     },
     "execution_count": 96,
     "metadata": {},
     "output_type": "execute_result"
    }
   ],
   "source": [
    "#take cummulative sum of the elements along the row\n",
    "np.cumsum(array_3,axis=0)"
   ]
  },
  {
   "cell_type": "code",
   "execution_count": 99,
   "id": "9ec00679",
   "metadata": {},
   "outputs": [
    {
     "data": {
      "text/plain": [
       "array([[ 1,  2,  3,  4,  5],\n",
       "       [ 6,  7,  8,  9, 10],\n",
       "       [11, 12, 13, 14, 15]])"
      ]
     },
     "execution_count": 99,
     "metadata": {},
     "output_type": "execute_result"
    }
   ],
   "source": [
    "array_3"
   ]
  },
  {
   "cell_type": "code",
   "execution_count": 98,
   "id": "892a4d90",
   "metadata": {},
   "outputs": [
    {
     "data": {
      "text/plain": [
       "array([ 6.,  7.,  8.,  9., 10.])"
      ]
     },
     "execution_count": 98,
     "metadata": {},
     "output_type": "execute_result"
    }
   ],
   "source": [
    "#take the mean of the elements along the row\n",
    "np.mean(array_3,axis=0)"
   ]
  },
  {
   "cell_type": "code",
   "execution_count": 100,
   "id": "898a421a",
   "metadata": {},
   "outputs": [
    {
     "data": {
      "text/plain": [
       "array([ 3.,  8., 13.])"
      ]
     },
     "execution_count": 100,
     "metadata": {},
     "output_type": "execute_result"
    }
   ],
   "source": [
    "#take the mean of the elements along the column\n",
    "np.mean(array_3,axis=1)"
   ]
  },
  {
   "cell_type": "code",
   "execution_count": 102,
   "id": "786e1120",
   "metadata": {},
   "outputs": [
    {
     "data": {
      "text/plain": [
       "array([11, 12, 13, 14, 15])"
      ]
     },
     "execution_count": 102,
     "metadata": {},
     "output_type": "execute_result"
    }
   ],
   "source": [
    "#take the max amount of the elements along the row\n",
    "np.amax(array_3,axis=0)"
   ]
  },
  {
   "cell_type": "code",
   "execution_count": 103,
   "id": "55b96d56",
   "metadata": {},
   "outputs": [
    {
     "data": {
      "text/plain": [
       "array([ 5, 10, 15])"
      ]
     },
     "execution_count": 103,
     "metadata": {},
     "output_type": "execute_result"
    }
   ],
   "source": [
    "#take the max amount of the elements along the column\n",
    "np.amax(array_3,axis=1)"
   ]
  },
  {
   "cell_type": "code",
   "execution_count": 104,
   "id": "f39bdce8",
   "metadata": {},
   "outputs": [
    {
     "data": {
      "text/plain": [
       "array([1, 2, 3, 4, 5])"
      ]
     },
     "execution_count": 104,
     "metadata": {},
     "output_type": "execute_result"
    }
   ],
   "source": [
    "#take the min amount of the elements along the row\n",
    "np.amin(array_3,axis=0)"
   ]
  },
  {
   "cell_type": "code",
   "execution_count": 106,
   "id": "1e35580c",
   "metadata": {},
   "outputs": [
    {
     "data": {
      "text/plain": [
       "array([ 1,  6, 11])"
      ]
     },
     "execution_count": 106,
     "metadata": {},
     "output_type": "execute_result"
    }
   ],
   "source": [
    "#take the min amount of the elements along the column\n",
    "np.amin(array_3,axis=1)"
   ]
  },
  {
   "cell_type": "markdown",
   "id": "f62090e9",
   "metadata": {},
   "source": [
    "## IO Function\n",
    "* Input and output the function from numpy\n",
    "#### Load a text file"
   ]
  },
  {
   "cell_type": "code",
   "execution_count": 109,
   "id": "b76113fa",
   "metadata": {},
   "outputs": [],
   "source": [
    "x = np.loadtxt('tfl-daily-cycle-hires.txt',delimiter = ',',usecols=(1),skiprows=1)\n",
    "# delimeter = ',' -> first and the second column devided from a comma\n",
    "# skiprows = 1 -> skip the first row"
   ]
  },
  {
   "cell_type": "code",
   "execution_count": 110,
   "id": "73089947",
   "metadata": {},
   "outputs": [
    {
     "data": {
      "text/plain": [
       "array([ 6897.,  5564.,  4303., ..., 32539., 39889., 34070.])"
      ]
     },
     "execution_count": 110,
     "metadata": {},
     "output_type": "execute_result"
    }
   ],
   "source": [
    "x #stores it as an array"
   ]
  },
  {
   "cell_type": "code",
   "execution_count": 112,
   "id": "f50d1a67",
   "metadata": {},
   "outputs": [
    {
     "data": {
      "text/plain": [
       "4081"
      ]
     },
     "execution_count": 112,
     "metadata": {},
     "output_type": "execute_result"
    }
   ],
   "source": [
    "#count the number of non-zero elements in the array\n",
    "np.count_nonzero(x,axis=0)"
   ]
  },
  {
   "cell_type": "code",
   "execution_count": 113,
   "id": "a6536e6e",
   "metadata": {},
   "outputs": [
    {
     "data": {
      "text/plain": [
       "73094.0"
      ]
     },
     "execution_count": 113,
     "metadata": {},
     "output_type": "execute_result"
    }
   ],
   "source": [
    "#get the maximum number in the array\n",
    "np.max(x)"
   ]
  },
  {
   "cell_type": "code",
   "execution_count": 114,
   "id": "cc590d8a",
   "metadata": {},
   "outputs": [
    {
     "data": {
      "text/plain": [
       "2764.0"
      ]
     },
     "execution_count": 114,
     "metadata": {},
     "output_type": "execute_result"
    }
   ],
   "source": [
    "#get the minimum number in the array\n",
    "np.min(x)"
   ]
  },
  {
   "cell_type": "code",
   "execution_count": 115,
   "id": "f35ef2a6",
   "metadata": {},
   "outputs": [
    {
     "data": {
      "text/plain": [
       "26261.932124479295"
      ]
     },
     "execution_count": 115,
     "metadata": {},
     "output_type": "execute_result"
    }
   ],
   "source": [
    "#gte the mean of the array\n",
    "np.mean(x)"
   ]
  },
  {
   "cell_type": "code",
   "execution_count": 116,
   "id": "d90992c0",
   "metadata": {},
   "outputs": [
    {
     "data": {
      "text/plain": [
       "9740.107235227775"
      ]
     },
     "execution_count": 116,
     "metadata": {},
     "output_type": "execute_result"
    }
   ],
   "source": [
    "#get the standard deviation of the array\n",
    "np.std(x)"
   ]
  },
  {
   "cell_type": "markdown",
   "id": "634b18e7",
   "metadata": {},
   "source": [
    "#### Output an array to text file"
   ]
  },
  {
   "cell_type": "code",
   "execution_count": 117,
   "id": "563860e2",
   "metadata": {},
   "outputs": [
    {
     "data": {
      "text/plain": [
       "array([ 6897.,  5564.,  4303., ..., 32539., 39889., 34070.])"
      ]
     },
     "execution_count": 117,
     "metadata": {},
     "output_type": "execute_result"
    }
   ],
   "source": [
    "x"
   ]
  },
  {
   "cell_type": "code",
   "execution_count": 118,
   "id": "70d8a562",
   "metadata": {},
   "outputs": [],
   "source": [
    "np.savetxt('text_output.txt',x)\n",
    "# 'text_output.txt' -> output file name\n",
    "# x -> array name"
   ]
  },
  {
   "cell_type": "code",
   "execution_count": null,
   "id": "e9ae3e16",
   "metadata": {},
   "outputs": [],
   "source": []
  }
 ],
 "metadata": {
  "kernelspec": {
   "display_name": "Python 3 (ipykernel)",
   "language": "python",
   "name": "python3"
  },
  "language_info": {
   "codemirror_mode": {
    "name": "ipython",
    "version": 3
   },
   "file_extension": ".py",
   "mimetype": "text/x-python",
   "name": "python",
   "nbconvert_exporter": "python",
   "pygments_lexer": "ipython3",
   "version": "3.9.13"
  }
 },
 "nbformat": 4,
 "nbformat_minor": 5
}
