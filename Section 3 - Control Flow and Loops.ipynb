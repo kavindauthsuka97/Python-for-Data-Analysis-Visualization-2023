{
 "cells": [
  {
   "cell_type": "markdown",
   "id": "3958dae2",
   "metadata": {},
   "source": [
    "## Python Operators"
   ]
  },
  {
   "cell_type": "markdown",
   "id": "09e27c4f",
   "metadata": {},
   "source": [
    "#### Comaprison Operators\n",
    "*  equal : == \n",
    "*  not equal : !=\n",
    "*  left operand is greater than right operand : >\n",
    "*  right operand is greater than left operand : <\n",
    "*  left operand is greater than or equal to right operand : >=\n",
    "*  right operand is greater than or equal to left operand : <="
   ]
  },
  {
   "cell_type": "code",
   "execution_count": 1,
   "id": "787ad9eb",
   "metadata": {},
   "outputs": [
    {
     "data": {
      "text/plain": [
       "True"
      ]
     },
     "execution_count": 1,
     "metadata": {},
     "output_type": "execute_result"
    }
   ],
   "source": [
    "10 == 10"
   ]
  },
  {
   "cell_type": "code",
   "execution_count": 2,
   "id": "ace04e62",
   "metadata": {},
   "outputs": [],
   "source": [
    "a = 10\n",
    "b = 20"
   ]
  },
  {
   "cell_type": "code",
   "execution_count": 3,
   "id": "74ec31f8",
   "metadata": {},
   "outputs": [
    {
     "data": {
      "text/plain": [
       "False"
      ]
     },
     "execution_count": 3,
     "metadata": {},
     "output_type": "execute_result"
    }
   ],
   "source": [
    "#check the equality\n",
    "a == b"
   ]
  },
  {
   "cell_type": "code",
   "execution_count": 4,
   "id": "f80c82f5",
   "metadata": {},
   "outputs": [
    {
     "data": {
      "text/plain": [
       "True"
      ]
     },
     "execution_count": 4,
     "metadata": {},
     "output_type": "execute_result"
    }
   ],
   "source": [
    "[1,2,3]==[1,2,3]"
   ]
  },
  {
   "cell_type": "code",
   "execution_count": 5,
   "id": "04c5b43c",
   "metadata": {},
   "outputs": [
    {
     "data": {
      "text/plain": [
       "False"
      ]
     },
     "execution_count": 5,
     "metadata": {},
     "output_type": "execute_result"
    }
   ],
   "source": [
    "[1,2,3]==[2,1,3]"
   ]
  },
  {
   "cell_type": "code",
   "execution_count": 6,
   "id": "e54df4d2",
   "metadata": {},
   "outputs": [
    {
     "data": {
      "text/plain": [
       "True"
      ]
     },
     "execution_count": 6,
     "metadata": {},
     "output_type": "execute_result"
    }
   ],
   "source": [
    "a != b"
   ]
  },
  {
   "cell_type": "code",
   "execution_count": 7,
   "id": "399fcaf1",
   "metadata": {},
   "outputs": [
    {
     "data": {
      "text/plain": [
       "True"
      ]
     },
     "execution_count": 7,
     "metadata": {},
     "output_type": "execute_result"
    }
   ],
   "source": [
    "a < b"
   ]
  },
  {
   "cell_type": "code",
   "execution_count": 8,
   "id": "d6ba294b",
   "metadata": {},
   "outputs": [
    {
     "data": {
      "text/plain": [
       "False"
      ]
     },
     "execution_count": 8,
     "metadata": {},
     "output_type": "execute_result"
    }
   ],
   "source": [
    "a > b"
   ]
  },
  {
   "cell_type": "code",
   "execution_count": 9,
   "id": "a577c155",
   "metadata": {},
   "outputs": [
    {
     "data": {
      "text/plain": [
       "True"
      ]
     },
     "execution_count": 9,
     "metadata": {},
     "output_type": "execute_result"
    }
   ],
   "source": [
    "a <= b"
   ]
  },
  {
   "cell_type": "code",
   "execution_count": 10,
   "id": "37ae8646",
   "metadata": {},
   "outputs": [
    {
     "data": {
      "text/plain": [
       "False"
      ]
     },
     "execution_count": 10,
     "metadata": {},
     "output_type": "execute_result"
    }
   ],
   "source": [
    "a >= b"
   ]
  },
  {
   "cell_type": "markdown",
   "id": "7450babb",
   "metadata": {},
   "source": [
    "## Logical Operators\n",
    "* and : returns True if both statements are True\n",
    "* or : returns True if any of the statements are True\n",
    "* not : return False if the statement is True"
   ]
  },
  {
   "cell_type": "markdown",
   "id": "ac571a81",
   "metadata": {},
   "source": [
    "### Control Flow\n",
    "\n",
    "#### If statement\n",
    "* if the condition is true, run the block"
   ]
  },
  {
   "cell_type": "code",
   "execution_count": 1,
   "id": "e21f1c29",
   "metadata": {},
   "outputs": [
    {
     "name": "stdout",
     "output_type": "stream",
     "text": [
      "the condition is true\n"
     ]
    }
   ],
   "source": [
    "if 4>3:\n",
    "    print('the condition is true')"
   ]
  },
  {
   "cell_type": "code",
   "execution_count": 2,
   "id": "85cc5897",
   "metadata": {},
   "outputs": [],
   "source": [
    "if 4<3:\n",
    "    print('the condition is false')"
   ]
  },
  {
   "cell_type": "code",
   "execution_count": 3,
   "id": "1ed53eab",
   "metadata": {},
   "outputs": [
    {
     "name": "stdout",
     "output_type": "stream",
     "text": [
      "the condition is true\n",
      "this statement is always print\n"
     ]
    }
   ],
   "source": [
    "if 4>3:\n",
    "    print('the condition is true')\n",
    "print('this statement is always print')"
   ]
  },
  {
   "cell_type": "code",
   "execution_count": 4,
   "id": "e666b4c5",
   "metadata": {},
   "outputs": [
    {
     "name": "stdout",
     "output_type": "stream",
     "text": [
      "this statement is always print\n"
     ]
    }
   ],
   "source": [
    "if 4<3:\n",
    "    print('the condition is false')\n",
    "print('this statement is always print')"
   ]
  },
  {
   "cell_type": "markdown",
   "id": "eef3667f",
   "metadata": {},
   "source": [
    "#### if-else statement\n",
    "if condition:\n",
    "    < block of code to execute is True > "
   ]
  },
  {
   "cell_type": "markdown",
   "id": "1c0429a3",
   "metadata": {},
   "source": [
    "else:\n",
    "    < block of code to execute is False >"
   ]
  },
  {
   "cell_type": "code",
   "execution_count": 9,
   "id": "84c3b84e",
   "metadata": {},
   "outputs": [],
   "source": [
    "x = 50"
   ]
  },
  {
   "cell_type": "code",
   "execution_count": 6,
   "id": "75897ea1",
   "metadata": {},
   "outputs": [
    {
     "name": "stdout",
     "output_type": "stream",
     "text": [
      "x is less than 200\n"
     ]
    }
   ],
   "source": [
    "if x < 200:\n",
    "    print('x is less than 200')\n",
    "else:\n",
    "    print('x is not less than 200')"
   ]
  },
  {
   "cell_type": "markdown",
   "id": "bbed6843",
   "metadata": {},
   "source": [
    "#### if - elif - else"
   ]
  },
  {
   "cell_type": "code",
   "execution_count": 10,
   "id": "acfe1ef4",
   "metadata": {},
   "outputs": [
    {
     "name": "stdout",
     "output_type": "stream",
     "text": [
      "if statement is true\n"
     ]
    }
   ],
   "source": [
    "if x < 100:\n",
    "    print('if statement is true')\n",
    "elif x < 100:\n",
    "    print('first elif statement is true')\n",
    "elif x < 100:\n",
    "    print('second elif statement is true')"
   ]
  },
  {
   "cell_type": "markdown",
   "id": "5b55b6ad",
   "metadata": {},
   "source": [
    "#### Nested Statement"
   ]
  },
  {
   "cell_type": "code",
   "execution_count": 11,
   "id": "84ada7d2",
   "metadata": {},
   "outputs": [
    {
     "name": "stdout",
     "output_type": "stream",
     "text": [
      "50 is greater than 11\n"
     ]
    }
   ],
   "source": [
    "if x < 11:\n",
    "    if x > 5 :\n",
    "        print(f'{x} is less than 11 and greater than 5')\n",
    "    elif x < 5 :\n",
    "        print(f'{x} is less than 5')\n",
    "else:\n",
    "    print(f'{x} is greater than 11')"
   ]
  },
  {
   "cell_type": "markdown",
   "id": "77a25250",
   "metadata": {},
   "source": [
    "## For Loops\n",
    "* An iterable object is an object that is able to return each of its elements one at a time in a loop"
   ]
  },
  {
   "attachments": {
    "image.png": {
     "image/png": "[encoded data removed]"
    }
   },
   "cell_type": "markdown",
   "id": "d2c7e08f",
   "metadata": {},
   "source": [
    "![image.png](attachment:image.png)"
   ]
  },
  {
   "cell_type": "markdown",
   "id": "fb4cf53c",
   "metadata": {},
   "source": [
    "#### List"
   ]
  },
  {
   "cell_type": "code",
   "execution_count": 1,
   "id": "edfdd68b",
   "metadata": {
    "scrolled": true
   },
   "outputs": [
    {
     "name": "stdout",
     "output_type": "stream",
     "text": [
      "1\n",
      "2\n",
      "3\n",
      "4\n",
      "5\n",
      "6\n"
     ]
    }
   ],
   "source": [
    "list_1 = [1,2,3,4,5,6]\n",
    "for x in list_1: # x variable iterate through each element in the list\n",
    "    print(x)"
   ]
  },
  {
   "cell_type": "markdown",
   "id": "6861444a",
   "metadata": {},
   "source": [
    "#### Embedded List"
   ]
  },
  {
   "cell_type": "code",
   "execution_count": 3,
   "id": "f1cab1be",
   "metadata": {},
   "outputs": [
    {
     "name": "stdout",
     "output_type": "stream",
     "text": [
      "[1, 2]\n",
      "[3, 4]\n",
      "[5, 6]\n"
     ]
    }
   ],
   "source": [
    "list_2 = [[1,2],[3,4],[5,6]]\n",
    "for y in list_2:\n",
    "    print(y)"
   ]
  },
  {
   "cell_type": "code",
   "execution_count": 5,
   "id": "b9e8d098",
   "metadata": {},
   "outputs": [
    {
     "name": "stdout",
     "output_type": "stream",
     "text": [
      "1\n",
      "2\n",
      "3\n",
      "4\n",
      "5\n",
      "6\n"
     ]
    }
   ],
   "source": [
    "#get all the elements one by one in embedded list\n",
    "for y in list_2:\n",
    "    print(y[0])\n",
    "    print(y[1])"
   ]
  },
  {
   "cell_type": "markdown",
   "id": "dddc0147",
   "metadata": {},
   "source": [
    "* Nested For Loop"
   ]
  },
  {
   "cell_type": "code",
   "execution_count": 6,
   "id": "35f00f96",
   "metadata": {},
   "outputs": [
    {
     "name": "stdout",
     "output_type": "stream",
     "text": [
      "1\n",
      "2\n",
      "3\n",
      "4\n",
      "5\n",
      "6\n"
     ]
    }
   ],
   "source": [
    "for y in list_2:\n",
    "    for z in y:\n",
    "        print(z)"
   ]
  },
  {
   "cell_type": "markdown",
   "id": "3c0b4c06",
   "metadata": {},
   "source": [
    "#### Tuple"
   ]
  },
  {
   "cell_type": "code",
   "execution_count": 7,
   "id": "8c044905",
   "metadata": {},
   "outputs": [
    {
     "name": "stdout",
     "output_type": "stream",
     "text": [
      "1\n",
      "2\n",
      "3\n",
      "4\n",
      "5\n",
      "6\n"
     ]
    }
   ],
   "source": [
    "tup1 = (1,2,3,4,5,6)\n",
    "for x in tup1:\n",
    "    print(x)"
   ]
  },
  {
   "cell_type": "markdown",
   "id": "559b4d0c",
   "metadata": {},
   "source": [
    "* Unpacking an embedded tuple"
   ]
  },
  {
   "cell_type": "code",
   "execution_count": 8,
   "id": "deb241c4",
   "metadata": {},
   "outputs": [
    {
     "name": "stdout",
     "output_type": "stream",
     "text": [
      "1\n",
      "2\n",
      "3\n",
      "4\n",
      "5\n",
      "6\n"
     ]
    }
   ],
   "source": [
    "#unpacking\n",
    "tup2 = ((1,2),(3,4),(5,6))\n",
    "for x in tup2:\n",
    "    for y in x:\n",
    "        print(y)"
   ]
  },
  {
   "cell_type": "markdown",
   "id": "7504ef20",
   "metadata": {},
   "source": [
    "#### Sets"
   ]
  },
  {
   "cell_type": "code",
   "execution_count": 9,
   "id": "b37763ae",
   "metadata": {},
   "outputs": [
    {
     "name": "stdout",
     "output_type": "stream",
     "text": [
      "waduge\n",
      "kavinda\n",
      "uthsuka\n"
     ]
    }
   ],
   "source": [
    "set1 = {'kavinda','uthsuka','waduge'}\n",
    "for x in set1:\n",
    "    print(x)"
   ]
  },
  {
   "cell_type": "markdown",
   "id": "21bbb314",
   "metadata": {},
   "source": [
    "#### Strings"
   ]
  },
  {
   "cell_type": "code",
   "execution_count": 10,
   "id": "35a1f750",
   "metadata": {},
   "outputs": [
    {
     "name": "stdout",
     "output_type": "stream",
     "text": [
      "h\n",
      "e\n",
      "l\n",
      "l\n",
      "o\n",
      " \n",
      "w\n",
      "o\n",
      "r\n",
      "l\n",
      "d\n"
     ]
    }
   ],
   "source": [
    "str1 = 'hello world'\n",
    "for x in str1:\n",
    "    print(x)"
   ]
  },
  {
   "cell_type": "markdown",
   "id": "8e5fc71b",
   "metadata": {},
   "source": [
    "#### Dictionary"
   ]
  },
  {
   "cell_type": "code",
   "execution_count": 11,
   "id": "b434eaba",
   "metadata": {},
   "outputs": [
    {
     "data": {
      "text/plain": [
       "{'key1': 'value1', 'key2': 'value2'}"
      ]
     },
     "execution_count": 11,
     "metadata": {},
     "output_type": "execute_result"
    }
   ],
   "source": [
    "dict1 = {'key1':'value1','key2':'value2'}\n",
    "dict1"
   ]
  },
  {
   "cell_type": "code",
   "execution_count": 12,
   "id": "31caca1f",
   "metadata": {},
   "outputs": [
    {
     "name": "stdout",
     "output_type": "stream",
     "text": [
      "key1\n",
      "value1\n",
      "key2\n",
      "value2\n"
     ]
    }
   ],
   "source": [
    "#unpacking the dictionary\n",
    "for k,v in dict1.items():\n",
    "    print(k)\n",
    "    print(v)"
   ]
  },
  {
   "cell_type": "markdown",
   "id": "8df8fef9",
   "metadata": {},
   "source": [
    "#### Control Flow with For Loop"
   ]
  },
  {
   "cell_type": "code",
   "execution_count": 13,
   "id": "1e50dedf",
   "metadata": {},
   "outputs": [],
   "source": [
    "furniture = ['sofa','desk','tv','lamp']"
   ]
  },
  {
   "cell_type": "code",
   "execution_count": 14,
   "id": "6153e9f6",
   "metadata": {},
   "outputs": [
    {
     "name": "stdout",
     "output_type": "stream",
     "text": [
      "sofa\n",
      "desk\n",
      "lamp\n"
     ]
    }
   ],
   "source": [
    "# unpack the list without 'tv' \n",
    "for x in furniture:\n",
    "    if x != 'tv':\n",
    "        print(x)"
   ]
  },
  {
   "attachments": {
    "image.png": {
     "image/png": "[encoded data removed]"
    }
   },
   "cell_type": "markdown",
   "id": "dd4289f4",
   "metadata": {},
   "source": [
    "## While Loop\n",
    "\n",
    "![image.png](attachment:image.png)"
   ]
  },
  {
   "cell_type": "code",
   "execution_count": 15,
   "id": "abe99003",
   "metadata": {},
   "outputs": [
    {
     "name": "stdout",
     "output_type": "stream",
     "text": [
      "a is less than 5\n",
      "a is less than 5\n",
      "a is less than 5\n",
      "a is less than 5\n",
      "a is less than 5\n",
      "a is less than 5\n"
     ]
    }
   ],
   "source": [
    "a = 0\n",
    "while a<=5:\n",
    "    print('a is less than 5')\n",
    "    a = a+1"
   ]
  },
  {
   "cell_type": "code",
   "execution_count": 16,
   "id": "2dfb2aaa",
   "metadata": {},
   "outputs": [
    {
     "name": "stdout",
     "output_type": "stream",
     "text": [
      "the value of 1 is \n",
      "the value of 2 is \n",
      "the value of 3 is \n",
      "the value of 4 is \n",
      "the value of 5 is \n",
      "the value of 6 is \n"
     ]
    }
   ],
   "source": [
    "a = 0\n",
    "while a<=5:\n",
    "    a=a+1\n",
    "    print(f'the value of {a} is ')"
   ]
  },
  {
   "cell_type": "markdown",
   "id": "29761f42",
   "metadata": {},
   "source": [
    "## Pass\n",
    "* Pass statement is like a null statement. It results in no operation being performed."
   ]
  },
  {
   "cell_type": "code",
   "execution_count": 18,
   "id": "041d81a5",
   "metadata": {},
   "outputs": [],
   "source": [
    "number = 2\n",
    "if number == 2:\n",
    "    pass #we can pass this statement without any problem.\n",
    "else:\n",
    "    print(number)"
   ]
  },
  {
   "cell_type": "code",
   "execution_count": 19,
   "id": "8b9d398c",
   "metadata": {},
   "outputs": [
    {
     "name": "stdout",
     "output_type": "stream",
     "text": [
      "1\n",
      "2\n",
      "3\n",
      "4\n",
      "6\n"
     ]
    }
   ],
   "source": [
    "#do not print 5\n",
    "num = [1,2,3,4,5,6]\n",
    "for iteration in num:\n",
    "    if iteration == 5:\n",
    "        pass\n",
    "    else:\n",
    "        print(iteration)"
   ]
  },
  {
   "cell_type": "markdown",
   "id": "c397ef40",
   "metadata": {},
   "source": [
    "## List Comprehension"
   ]
  },
  {
   "cell_type": "code",
   "execution_count": 20,
   "id": "9a4fb307",
   "metadata": {},
   "outputs": [],
   "source": [
    "# add text to an empty list\n",
    "text = 'hello world'\n",
    "box = []\n",
    "\n",
    "for x in text:\n",
    "    box.append(x)"
   ]
  },
  {
   "cell_type": "code",
   "execution_count": 21,
   "id": "02efd96c",
   "metadata": {},
   "outputs": [
    {
     "data": {
      "text/plain": [
       "['h', 'e', 'l', 'l', 'o', ' ', 'w', 'o', 'r', 'l', 'd']"
      ]
     },
     "execution_count": 21,
     "metadata": {},
     "output_type": "execute_result"
    }
   ],
   "source": [
    "box"
   ]
  },
  {
   "cell_type": "code",
   "execution_count": 23,
   "id": "156eb75a",
   "metadata": {},
   "outputs": [
    {
     "data": {
      "text/plain": [
       "['h', 'e', 'l', 'l', 'o', ' ', 'w', 'o', 'r', 'l', 'd']"
      ]
     },
     "execution_count": 23,
     "metadata": {},
     "output_type": "execute_result"
    }
   ],
   "source": [
    "[x for x in text]\n",
    "# x -> iterative elemnt which is iterate through each character in the text.\n",
    "# text -> iterable object which includes the text "
   ]
  },
  {
   "cell_type": "code",
   "execution_count": 24,
   "id": "b3f121fc",
   "metadata": {},
   "outputs": [
    {
     "data": {
      "text/plain": [
       "['H', 'E', 'L', 'L', 'O', ' ', 'W', 'O', 'R', 'L', 'D']"
      ]
     },
     "execution_count": 24,
     "metadata": {},
     "output_type": "execute_result"
    }
   ],
   "source": [
    "# do the list comprehension by converting all the letters to its upper case\n",
    "[x.upper() for x in text]"
   ]
  },
  {
   "cell_type": "code",
   "execution_count": 25,
   "id": "e729d98d",
   "metadata": {},
   "outputs": [
    {
     "data": {
      "text/plain": [
       "['hh', 'ee', 'll', 'll', 'oo', '  ', 'ww', 'oo', 'rr', 'll', 'dd']"
      ]
     },
     "execution_count": 25,
     "metadata": {},
     "output_type": "execute_result"
    }
   ],
   "source": [
    "# do the list comprehension by double the each letter\n",
    "[x+x for x in text]"
   ]
  },
  {
   "cell_type": "markdown",
   "id": "4c59aa3d",
   "metadata": {},
   "source": [
    "## IN / NOT IN Operators\n",
    "\n",
    "* IN : returns True if the specified value CAN be found inside of the specified object.\n",
    "* NOT IN : Returns True if the specified value CANNOT be found inside of the specified object."
   ]
  },
  {
   "cell_type": "code",
   "execution_count": 26,
   "id": "48a91bd6",
   "metadata": {},
   "outputs": [
    {
     "data": {
      "text/plain": [
       "True"
      ]
     },
     "execution_count": 26,
     "metadata": {},
     "output_type": "execute_result"
    }
   ],
   "source": [
    "list_1 = [1,2,3,4,5]\n",
    "# confirm '4' is in the list\n",
    "4 in list_1"
   ]
  },
  {
   "cell_type": "code",
   "execution_count": 28,
   "id": "c5b312e9",
   "metadata": {},
   "outputs": [
    {
     "data": {
      "text/plain": [
       "True"
      ]
     },
     "execution_count": 28,
     "metadata": {},
     "output_type": "execute_result"
    }
   ],
   "source": [
    "str_1 = 'Hello'\n",
    "# confirm 'H' is in the string\n",
    "'H' in str_1"
   ]
  },
  {
   "cell_type": "code",
   "execution_count": 29,
   "id": "25598cf9",
   "metadata": {},
   "outputs": [
    {
     "data": {
      "text/plain": [
       "False"
      ]
     },
     "execution_count": 29,
     "metadata": {},
     "output_type": "execute_result"
    }
   ],
   "source": [
    "# confirm 'h' is in the string\n",
    "'h' in str_1"
   ]
  },
  {
   "cell_type": "code",
   "execution_count": 30,
   "id": "5c54e6da",
   "metadata": {},
   "outputs": [
    {
     "data": {
      "text/plain": [
       "True"
      ]
     },
     "execution_count": 30,
     "metadata": {},
     "output_type": "execute_result"
    }
   ],
   "source": [
    "# confirm 'Hel' is in the string\n",
    "'Hel' in str_1"
   ]
  },
  {
   "cell_type": "code",
   "execution_count": 32,
   "id": "a63c9cc7",
   "metadata": {},
   "outputs": [
    {
     "data": {
      "text/plain": [
       "{'key1': 'value1', 'key2': 'value2'}"
      ]
     },
     "execution_count": 32,
     "metadata": {},
     "output_type": "execute_result"
    }
   ],
   "source": [
    "dict1"
   ]
  },
  {
   "cell_type": "code",
   "execution_count": 33,
   "id": "0e0db759",
   "metadata": {},
   "outputs": [
    {
     "data": {
      "text/plain": [
       "True"
      ]
     },
     "execution_count": 33,
     "metadata": {},
     "output_type": "execute_result"
    }
   ],
   "source": [
    "'key1' in dict1"
   ]
  },
  {
   "cell_type": "code",
   "execution_count": null,
   "id": "def8c998",
   "metadata": {},
   "outputs": [],
   "source": []
  }
 ],
 "metadata": {
  "kernelspec": {
   "display_name": "Python 3 (ipykernel)",
   "language": "python",
   "name": "python3"
  },
  "language_info": {
   "codemirror_mode": {
    "name": "ipython",
    "version": 3
   },
   "file_extension": ".py",
   "mimetype": "text/x-python",
   "name": "python",
   "nbconvert_exporter": "python",
   "pygments_lexer": "ipython3",
   "version": "3.9.13"
  }
 },
 "nbformat": 4,
 "nbformat_minor": 5
}
