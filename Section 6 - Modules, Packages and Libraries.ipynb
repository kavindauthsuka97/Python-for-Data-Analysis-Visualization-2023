{
 "cells": [
  {
   "cell_type": "markdown",
   "id": "dddeb523",
   "metadata": {},
   "source": [
    "## Built-In Modules\n",
    "* Modules, packages and libraries in python can all contain additional functions and classes"
   ]
  },
  {
   "cell_type": "code",
   "execution_count": 1,
   "id": "07a80588",
   "metadata": {},
   "outputs": [
    {
     "name": "stdout",
     "output_type": "stream",
     "text": [
      "\n",
      "Please wait a moment while I gather a list of all available modules...\n",
      "\n"
     ]
    },
    {
     "name": "stderr",
     "output_type": "stream",
     "text": [
      "C:\\Users\\Kavinda_106076\\Anaconda3\\lib\\site-packages\\IPython\\kernel\\__init__.py:12: ShimWarning: The `IPython.kernel` package has been deprecated since IPython 4.0.You should import from ipykernel or jupyter_client instead.\n",
      "  warn(\"The `IPython.kernel` package has been deprecated since IPython 4.0.\"\n",
      "WARNING: AstropyDeprecationWarning: The private astropy._erfa module has been made into its own package, pyerfa, which is a dependency of astropy and can be imported directly using \"import erfa\" [astropy._erfa]\n",
      "pandas.core.index is deprecated and will be removed in a future version. The public classes are available in the top-level namespace.\n",
      "analyzers are deprecated, use metrics instead\n",
      "dashboards are deprecated, use metrics instead\n",
      "model monitoring is deprecated, use metrics instead\n",
      "model profiles are deprecated, use metrics instead\n",
      "'import evidently.profile_sections' is deprecated, use 'import evidently.model_profile.sections'\n",
      "'import evidently.tabs' is deprecated, use 'import evidently.dashboard.tabs'\n",
      "'import evidently.widgets' is deprecated, use 'import evidently.dashboard.widgets'\n",
      "Blowfish has been deprecated\n",
      "The twython library has not been installed. Some functionality from the twitter package will not be available.\n",
      "Setuptools is replacing distutils.\n",
      "C:\\Users\\Kavinda_106076\\Anaconda3\\lib\\site-packages\\sktime\\utils\\validation\\_dependencies.py:117: UserWarning:\n",
      "\n",
      "No module named 'pyod'. 'pyod' is a soft dependency and not included in the base sktime installation. Please run: `pip install pyod` to install the pyod package. To install all soft dependencies, run: `pip install sktime[all_extras]`\n",
      "\n",
      "C:\\Users\\Kavinda_106076\\Anaconda3\\lib\\site-packages\\sktime\\utils\\validation\\_dependencies.py:117: UserWarning:\n",
      "\n",
      "str requires package 'dtw-python' to be present in the python environment, but 'dtw-python' was not found. 'dtw-python' is a soft dependency and not included in the base sktime installation. Please run: `pip install dtw-python` to install the dtw-python package. To install all soft dependencies, run: `pip install sktime[all_extras]`\n",
      "\n",
      "C:\\Users\\Kavinda_106076\\Anaconda3\\lib\\site-packages\\sktime\\utils\\validation\\_dependencies.py:167: UserWarning:\n",
      "\n",
      "tensorflow and tensorflow-probability are required for deep learning and probabilistic functionality in `sktime`. To install these dependencies, run: `pip install sktime[dl]`\n",
      "\n",
      "C:\\Users\\Kavinda_106076\\Anaconda3\\lib\\site-packages\\sktime\\utils\\validation\\_dependencies.py:117: UserWarning:\n",
      "\n",
      "No module named 'tsfresh'. 'tsfresh' is a soft dependency and not included in the base sktime installation. Please run: `pip install tsfresh` to install the tsfresh package. To install all soft dependencies, run: `pip install sktime[all_extras]`\n",
      "\n",
      "C:\\Users\\Kavinda_106076\\Anaconda3\\lib\\site-packages\\sktime\\utils\\validation\\_dependencies.py:117: UserWarning:\n",
      "\n",
      "No module named 'esig'. 'esig' is a soft dependency and not included in the base sktime installation. Please run: `pip install esig` to install the esig package. To install all soft dependencies, run: `pip install sktime[all_extras]`\n",
      "\n",
      "C:\\Users\\Kavinda_106076\\Anaconda3\\lib\\site-packages\\sktime\\utils\\validation\\_dependencies.py:117: UserWarning:\n",
      "\n",
      "No module named 'tslearn'. 'tslearn' is a soft dependency and not included in the base sktime installation. Please run: `pip install tslearn` to install the tslearn package. To install all soft dependencies, run: `pip install sktime[all_extras]`\n",
      "\n",
      "C:\\Users\\Kavinda_106076\\Anaconda3\\lib\\site-packages\\sktime\\utils\\validation\\_dependencies.py:117: UserWarning:\n",
      "\n",
      "No module named 'tbats'. 'tbats' is a soft dependency and not included in the base sktime installation. Please run: `pip install tbats` to install the tbats package. To install all soft dependencies, run: `pip install sktime[all_extras]`\n",
      "\n",
      "C:\\Users\\Kavinda_106076\\Anaconda3\\lib\\site-packages\\sktime\\utils\\validation\\_dependencies.py:117: UserWarning:\n",
      "\n",
      "No module named 'prophet'. 'prophet' is a soft dependency and not included in the base sktime installation. Please run: `pip install prophet` to install the prophet package. To install all soft dependencies, run: `pip install sktime[all_extras]`\n",
      "\n",
      "C:\\Users\\Kavinda_106076\\Anaconda3\\lib\\site-packages\\sktime\\utils\\validation\\_dependencies.py:117: UserWarning:\n",
      "\n",
      "No module named 'statsforecast'. 'statsforecast' is a soft dependency and not included in the base sktime installation. Please run: `pip install statsforecast` to install the statsforecast package. To install all soft dependencies, run: `pip install sktime[all_extras]`\n",
      "\n",
      "C:\\Users\\Kavinda_106076\\Anaconda3\\lib\\site-packages\\sktime\\utils\\validation\\_dependencies.py:117: UserWarning:\n",
      "\n",
      "No module named 'pykalman'. 'pykalman' is a soft dependency and not included in the base sktime installation. Please run: `pip install pykalman` to install the pykalman package. To install all soft dependencies, run: `pip install sktime[all_extras]`\n",
      "\n",
      "C:\\Users\\Kavinda_106076\\Anaconda3\\lib\\site-packages\\sktime\\utils\\validation\\_dependencies.py:117: UserWarning:\n",
      "\n",
      "No module named 'filterpy'. 'filterpy' is a soft dependency and not included in the base sktime installation. Please run: `pip install filterpy` to install the filterpy package. To install all soft dependencies, run: `pip install sktime[all_extras]`\n",
      "\n",
      "C:\\Users\\Kavinda_106076\\Anaconda3\\lib\\site-packages\\sktime\\utils\\validation\\_dependencies.py:117: UserWarning:\n",
      "\n",
      "No module named 'stumpy'. 'stumpy' is a soft dependency and not included in the base sktime installation. Please run: `pip install stumpy` to install the stumpy package. To install all soft dependencies, run: `pip install sktime[all_extras]`\n",
      "\n",
      "No QCoreApplication instance found. Application patches not applied. You have to call load_stylesheet function after instantiation of QApplication to take effect. \n",
      "C:\\Users\\Kavinda_106076\\Anaconda3\\lib\\pkgutil.py:108: VisibleDeprecationWarning:\n",
      "\n",
      "zmq.eventloop.minitornado is deprecated in pyzmq 14.0 and will be removed.\n",
      "    Install tornado itself to use zmq with the tornado IOLoop.\n",
      "    \n",
      "\n"
     ]
    }
   ],
   "source": [
    "help('modules')"
   ]
  },
  {
   "cell_type": "code",
   "execution_count": 2,
   "id": "ddb03926",
   "metadata": {},
   "outputs": [],
   "source": [
    "# import a library\n",
    "import statistics"
   ]
  },
  {
   "cell_type": "code",
   "execution_count": 4,
   "id": "12437d22",
   "metadata": {},
   "outputs": [
    {
     "data": {
      "text/plain": [
       "3"
      ]
     },
     "execution_count": 4,
     "metadata": {},
     "output_type": "execute_result"
    }
   ],
   "source": [
    "nums = [1,2,3,4,5]\n",
    "statistics.mean(nums) #using the imported library find the mean of the list"
   ]
  },
  {
   "cell_type": "code",
   "execution_count": 5,
   "id": "583fa679",
   "metadata": {},
   "outputs": [
    {
     "data": {
      "text/plain": [
       "3"
      ]
     },
     "execution_count": 5,
     "metadata": {},
     "output_type": "execute_result"
    }
   ],
   "source": [
    "# we can find the mean do the same thing as folllows\n",
    "from statistics import mean\n",
    "mean(nums)"
   ]
  },
  {
   "cell_type": "code",
   "execution_count": null,
   "id": "f1b9ba3b",
   "metadata": {},
   "outputs": [],
   "source": []
  }
 ],
 "metadata": {
  "kernelspec": {
   "display_name": "Python 3 (ipykernel)",
   "language": "python",
   "name": "python3"
  },
  "language_info": {
   "codemirror_mode": {
    "name": "ipython",
    "version": 3
   },
   "file_extension": ".py",
   "mimetype": "text/x-python",
   "name": "python",
   "nbconvert_exporter": "python",
   "pygments_lexer": "ipython3",
   "version": "3.9.13"
  }
 },
 "nbformat": 4,
 "nbformat_minor": 5
}
