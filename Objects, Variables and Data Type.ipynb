{
 "cells": [
  {
   "cell_type": "code",
   "execution_count": 2,
   "id": "f7f27447",
   "metadata": {},
   "outputs": [
    {
     "data": {
      "text/plain": [
       "'HELLO WORLD'"
      ]
     },
     "execution_count": 2,
     "metadata": {},
     "output_type": "execute_result"
    }
   ],
   "source": [
    "#capiyalise the sentence\n",
    "'hello world'.upper()"
   ]
  },
  {
   "cell_type": "markdown",
   "id": "d026c8ff",
   "metadata": {},
   "source": [
    "### Variables\n",
    "* Variables are reserved memory location where you can store values\n",
    "* Variables can't start from a number\n",
    "* Varibles should not have spaces "
   ]
  },
  {
   "cell_type": "code",
   "execution_count": 3,
   "id": "c247adf9",
   "metadata": {},
   "outputs": [
    {
     "data": {
      "text/plain": [
       "1"
      ]
     },
     "execution_count": 3,
     "metadata": {},
     "output_type": "execute_result"
    }
   ],
   "source": [
    "#variable\n",
    "x=1\n",
    "x"
   ]
  },
  {
   "cell_type": "code",
   "execution_count": 4,
   "id": "ae9a4bb7",
   "metadata": {},
   "outputs": [
    {
     "data": {
      "text/plain": [
       "int"
      ]
     },
     "execution_count": 4,
     "metadata": {},
     "output_type": "execute_result"
    }
   ],
   "source": [
    "#check the type of the variable\n",
    "type(x)"
   ]
  },
  {
   "cell_type": "code",
   "execution_count": 5,
   "id": "620cea1f",
   "metadata": {},
   "outputs": [
    {
     "data": {
      "text/plain": [
       "'hello world'"
      ]
     },
     "execution_count": 5,
     "metadata": {},
     "output_type": "execute_result"
    }
   ],
   "source": [
    "#string variable\n",
    "y = 'hello world'\n",
    "y"
   ]
  },
  {
   "cell_type": "markdown",
   "id": "1fea8e99",
   "metadata": {},
   "source": [
    "### Integers\n",
    "* int is a whole number which is negative or positive"
   ]
  },
  {
   "cell_type": "code",
   "execution_count": 6,
   "id": "146bb6a1",
   "metadata": {},
   "outputs": [
    {
     "data": {
      "text/plain": [
       "int"
      ]
     },
     "execution_count": 6,
     "metadata": {},
     "output_type": "execute_result"
    }
   ],
   "source": [
    "type(200)"
   ]
  },
  {
   "cell_type": "code",
   "execution_count": 7,
   "id": "802f9d7f",
   "metadata": {},
   "outputs": [
    {
     "data": {
      "text/plain": [
       "float"
      ]
     },
     "execution_count": 7,
     "metadata": {},
     "output_type": "execute_result"
    }
   ],
   "source": [
    "type(2.3)"
   ]
  },
  {
   "cell_type": "markdown",
   "id": "72ffafc0",
   "metadata": {},
   "source": [
    "### Float\n",
    "* A number with decimal points"
   ]
  },
  {
   "cell_type": "code",
   "execution_count": 8,
   "id": "cea55bb5",
   "metadata": {},
   "outputs": [
    {
     "data": {
      "text/plain": [
       "2.3"
      ]
     },
     "execution_count": 8,
     "metadata": {},
     "output_type": "execute_result"
    }
   ],
   "source": [
    "x = 2.3\n",
    "x"
   ]
  },
  {
   "cell_type": "code",
   "execution_count": 9,
   "id": "46031ba7",
   "metadata": {},
   "outputs": [
    {
     "data": {
      "text/plain": [
       "float"
      ]
     },
     "execution_count": 9,
     "metadata": {},
     "output_type": "execute_result"
    }
   ],
   "source": [
    "type(x)"
   ]
  },
  {
   "cell_type": "markdown",
   "id": "6ecdd6e8",
   "metadata": {},
   "source": [
    "### Arithmetic Operations Functions"
   ]
  },
  {
   "cell_type": "code",
   "execution_count": 10,
   "id": "9b589a76",
   "metadata": {},
   "outputs": [
    {
     "data": {
      "text/plain": [
       "5"
      ]
     },
     "execution_count": 10,
     "metadata": {},
     "output_type": "execute_result"
    }
   ],
   "source": [
    "#addition\n",
    "2+3"
   ]
  },
  {
   "cell_type": "code",
   "execution_count": 11,
   "id": "fa345e42",
   "metadata": {},
   "outputs": [],
   "source": [
    "x = 2\n",
    "y = 3"
   ]
  },
  {
   "cell_type": "code",
   "execution_count": 12,
   "id": "c831e6a0",
   "metadata": {},
   "outputs": [
    {
     "data": {
      "text/plain": [
       "5"
      ]
     },
     "execution_count": 12,
     "metadata": {},
     "output_type": "execute_result"
    }
   ],
   "source": [
    "#addition \n",
    "x+y"
   ]
  },
  {
   "cell_type": "code",
   "execution_count": 13,
   "id": "de4307c5",
   "metadata": {},
   "outputs": [
    {
     "data": {
      "text/plain": [
       "6"
      ]
     },
     "execution_count": 13,
     "metadata": {},
     "output_type": "execute_result"
    }
   ],
   "source": [
    "#multiplication\n",
    "x*y"
   ]
  },
  {
   "cell_type": "code",
   "execution_count": 14,
   "id": "204c452e",
   "metadata": {},
   "outputs": [
    {
     "data": {
      "text/plain": [
       "0.6666666666666666"
      ]
     },
     "execution_count": 14,
     "metadata": {},
     "output_type": "execute_result"
    }
   ],
   "source": [
    "#division\n",
    "x/y"
   ]
  },
  {
   "cell_type": "code",
   "execution_count": 15,
   "id": "314ec882",
   "metadata": {},
   "outputs": [
    {
     "data": {
      "text/plain": [
       "-1"
      ]
     },
     "execution_count": 15,
     "metadata": {},
     "output_type": "execute_result"
    }
   ],
   "source": [
    "#substraction\n",
    "x-y"
   ]
  },
  {
   "cell_type": "code",
   "execution_count": 16,
   "id": "af80ff4a",
   "metadata": {},
   "outputs": [
    {
     "data": {
      "text/plain": [
       "2"
      ]
     },
     "execution_count": 16,
     "metadata": {},
     "output_type": "execute_result"
    }
   ],
   "source": [
    "#modulo\n",
    "x%y"
   ]
  },
  {
   "cell_type": "code",
   "execution_count": 17,
   "id": "faea55c4",
   "metadata": {},
   "outputs": [
    {
     "data": {
      "text/plain": [
       "8"
      ]
     },
     "execution_count": 17,
     "metadata": {},
     "output_type": "execute_result"
    }
   ],
   "source": [
    "#power \n",
    "x**y"
   ]
  },
  {
   "cell_type": "code",
   "execution_count": 21,
   "id": "341378f6",
   "metadata": {},
   "outputs": [
    {
     "data": {
      "text/plain": [
       "8"
      ]
     },
     "execution_count": 21,
     "metadata": {},
     "output_type": "execute_result"
    }
   ],
   "source": [
    "#power from function\n",
    "pow(x,y)"
   ]
  },
  {
   "cell_type": "markdown",
   "id": "efdab90c",
   "metadata": {},
   "source": [
    "### Strings\n",
    "* Strings are sequences of characters"
   ]
  },
  {
   "cell_type": "code",
   "execution_count": 22,
   "id": "dd91e28c",
   "metadata": {},
   "outputs": [
    {
     "data": {
      "text/plain": [
       "'hello world'"
      ]
     },
     "execution_count": 22,
     "metadata": {},
     "output_type": "execute_result"
    }
   ],
   "source": [
    "#initialize a string\n",
    "'hello world'"
   ]
  },
  {
   "cell_type": "code",
   "execution_count": 23,
   "id": "5035abb7",
   "metadata": {},
   "outputs": [
    {
     "data": {
      "text/plain": [
       "str"
      ]
     },
     "execution_count": 23,
     "metadata": {},
     "output_type": "execute_result"
    }
   ],
   "source": [
    "type('hello world')"
   ]
  },
  {
   "cell_type": "code",
   "execution_count": 24,
   "id": "99d88b5f",
   "metadata": {},
   "outputs": [
    {
     "data": {
      "text/plain": [
       "str"
      ]
     },
     "execution_count": 24,
     "metadata": {},
     "output_type": "execute_result"
    }
   ],
   "source": [
    "type('''hello world''')"
   ]
  },
  {
   "cell_type": "code",
   "execution_count": 25,
   "id": "055c5d09",
   "metadata": {},
   "outputs": [
    {
     "data": {
      "text/plain": [
       "str"
      ]
     },
     "execution_count": 25,
     "metadata": {},
     "output_type": "execute_result"
    }
   ],
   "source": [
    "type('2')"
   ]
  },
  {
   "cell_type": "code",
   "execution_count": 30,
   "id": "d9398e5d",
   "metadata": {},
   "outputs": [
    {
     "name": "stdout",
     "output_type": "stream",
     "text": [
      "hello i would like this\n",
      "string in two lines\n"
     ]
    }
   ],
   "source": [
    "#two lines\n",
    "print('hello i would like this\\nstring in two lines')"
   ]
  },
  {
   "cell_type": "code",
   "execution_count": 28,
   "id": "d77f9b8c",
   "metadata": {},
   "outputs": [
    {
     "name": "stdout",
     "output_type": "stream",
     "text": [
      "hello i would like this \t string in two lines\n"
     ]
    }
   ],
   "source": [
    "#put a tab between words\n",
    "print('hello i would like this \\t string in two lines')"
   ]
  },
  {
   "cell_type": "markdown",
   "id": "12dd381c",
   "metadata": {},
   "source": [
    "#### Some more escape sequences\n",
    "* \\' single quote\n",
    "* \\\\ backslash\n",
    "* \\n new line\n",
    "* \\r carriage return\n",
    "* \\t tab\n",
    "* \\b backspace"
   ]
  },
  {
   "attachments": {
    "image.png": {
     "image/png": "[encoded data removed]"
    }
   },
   "cell_type": "markdown",
   "id": "f7794cf9",
   "metadata": {},
   "source": [
    "### String Indexing\n",
    "* String indexing allows you to access a specific character within a string\n",
    "![image.png](attachment:image.png)"
   ]
  },
  {
   "cell_type": "code",
   "execution_count": 31,
   "id": "627d611f",
   "metadata": {},
   "outputs": [],
   "source": [
    "x = 'This is a string'"
   ]
  },
  {
   "cell_type": "code",
   "execution_count": 32,
   "id": "87992cc6",
   "metadata": {},
   "outputs": [
    {
     "data": {
      "text/plain": [
       "'This is a string'"
      ]
     },
     "execution_count": 32,
     "metadata": {},
     "output_type": "execute_result"
    }
   ],
   "source": [
    "x"
   ]
  },
  {
   "cell_type": "code",
   "execution_count": 34,
   "id": "c53e86d9",
   "metadata": {},
   "outputs": [
    {
     "data": {
      "text/plain": [
       "'i'"
      ]
     },
     "execution_count": 34,
     "metadata": {},
     "output_type": "execute_result"
    }
   ],
   "source": [
    "#get the third charcter of the string\n",
    "x[2]"
   ]
  },
  {
   "cell_type": "markdown",
   "id": "dac96101",
   "metadata": {},
   "source": [
    "### String Slicing\n",
    "* Get the specific characters or sequence of the characters of the string\n",
    "* x[start,stop,step]\n",
    "* default 'step' parameter is 1.\n",
    "* default 'start' parameter is 0."
   ]
  },
  {
   "cell_type": "code",
   "execution_count": 35,
   "id": "1e22c075",
   "metadata": {},
   "outputs": [
    {
     "data": {
      "text/plain": [
       "'This is a string'"
      ]
     },
     "execution_count": 35,
     "metadata": {},
     "output_type": "execute_result"
    }
   ],
   "source": [
    "x"
   ]
  },
  {
   "cell_type": "code",
   "execution_count": 36,
   "id": "8721da3a",
   "metadata": {},
   "outputs": [
    {
     "data": {
      "text/plain": [
       "'This'"
      ]
     },
     "execution_count": 36,
     "metadata": {},
     "output_type": "execute_result"
    }
   ],
   "source": [
    "#first parameter -> start position\n",
    "#second parameter -> end position\n",
    "#third parameter -> number of steps\n",
    "x[0:4:1]"
   ]
  },
  {
   "cell_type": "code",
   "execution_count": 37,
   "id": "cc2014c8",
   "metadata": {},
   "outputs": [
    {
     "data": {
      "text/plain": [
       "'s is a string'"
      ]
     },
     "execution_count": 37,
     "metadata": {},
     "output_type": "execute_result"
    }
   ],
   "source": [
    "#get all the characters from 3rd index\n",
    "x[3::]"
   ]
  },
  {
   "cell_type": "code",
   "execution_count": 38,
   "id": "3089aa4f",
   "metadata": {},
   "outputs": [
    {
     "data": {
      "text/plain": [
       "'Ti sasrn'"
      ]
     },
     "execution_count": 38,
     "metadata": {},
     "output_type": "execute_result"
    }
   ],
   "source": [
    "#slicing with two steps from the begining\n",
    "x[::2]"
   ]
  },
  {
   "cell_type": "code",
   "execution_count": 39,
   "id": "8e13373d",
   "metadata": {},
   "outputs": [
    {
     "data": {
      "text/plain": [
       "'g'"
      ]
     },
     "execution_count": 39,
     "metadata": {},
     "output_type": "execute_result"
    }
   ],
   "source": [
    "#negative slicing\n",
    "#take the last character\n",
    "x[-1]"
   ]
  },
  {
   "cell_type": "code",
   "execution_count": 40,
   "id": "9da60144",
   "metadata": {},
   "outputs": [],
   "source": [
    "y = 'My name is John'"
   ]
  },
  {
   "cell_type": "code",
   "execution_count": 41,
   "id": "567c0b13",
   "metadata": {},
   "outputs": [
    {
     "data": {
      "text/plain": [
       "'John'"
      ]
     },
     "execution_count": 41,
     "metadata": {},
     "output_type": "execute_result"
    }
   ],
   "source": [
    "y[-4::]"
   ]
  },
  {
   "cell_type": "markdown",
   "id": "d8a2b24c",
   "metadata": {},
   "source": [
    "### String Methods"
   ]
  },
  {
   "cell_type": "code",
   "execution_count": 43,
   "id": "af6fd557",
   "metadata": {},
   "outputs": [
    {
     "data": {
      "text/plain": [
       "'THIS IS A STRING'"
      ]
     },
     "execution_count": 43,
     "metadata": {},
     "output_type": "execute_result"
    }
   ],
   "source": [
    "#capitalise each character\n",
    "x.upper()"
   ]
  },
  {
   "cell_type": "code",
   "execution_count": 44,
   "id": "9b16ede8",
   "metadata": {},
   "outputs": [
    {
     "data": {
      "text/plain": [
       "'this is a string'"
      ]
     },
     "execution_count": 44,
     "metadata": {},
     "output_type": "execute_result"
    }
   ],
   "source": [
    "#lowercase of the string\n",
    "x.lower()"
   ]
  },
  {
   "cell_type": "markdown",
   "id": "7e324b62",
   "metadata": {},
   "source": [
    "#### find (text, start, stop)\n",
    "* text ->  text search for\n",
    "* start -> start index position\n",
    "* stop -> stop index position"
   ]
  },
  {
   "cell_type": "code",
   "execution_count": 45,
   "id": "9b7f53eb",
   "metadata": {},
   "outputs": [],
   "source": [
    "y = 'Red flag'"
   ]
  },
  {
   "cell_type": "code",
   "execution_count": 47,
   "id": "f316dac3",
   "metadata": {},
   "outputs": [
    {
     "data": {
      "text/plain": [
       "-1"
      ]
     },
     "execution_count": 47,
     "metadata": {},
     "output_type": "execute_result"
    }
   ],
   "source": [
    "y.find('red')\n",
    "#if we get -1, it means we don't have a match"
   ]
  },
  {
   "cell_type": "code",
   "execution_count": 48,
   "id": "b327e60d",
   "metadata": {},
   "outputs": [
    {
     "data": {
      "text/plain": [
       "0"
      ]
     },
     "execution_count": 48,
     "metadata": {},
     "output_type": "execute_result"
    }
   ],
   "source": [
    "y.find('Red flag')\n",
    "#if we get 0, it means we have a match"
   ]
  },
  {
   "cell_type": "markdown",
   "id": "669222da",
   "metadata": {},
   "source": [
    "#### replace(old text, new text, count)\n",
    "* This can replace text with new text\n",
    "* old text ->  text to replaced\n",
    "* new text -> text to replace with\n",
    "* count ->  number of times you want to replace the old text"
   ]
  },
  {
   "cell_type": "code",
   "execution_count": 49,
   "id": "b9a9dc5c",
   "metadata": {},
   "outputs": [
    {
     "data": {
      "text/plain": [
       "'Red flag'"
      ]
     },
     "execution_count": 49,
     "metadata": {},
     "output_type": "execute_result"
    }
   ],
   "source": [
    "y"
   ]
  },
  {
   "cell_type": "code",
   "execution_count": 50,
   "id": "f53b73c2",
   "metadata": {},
   "outputs": [],
   "source": [
    "y = y.replace('Red', 'Green')"
   ]
  },
  {
   "cell_type": "code",
   "execution_count": 51,
   "id": "9f358f26",
   "metadata": {},
   "outputs": [
    {
     "data": {
      "text/plain": [
       "'Green flag'"
      ]
     },
     "execution_count": 51,
     "metadata": {},
     "output_type": "execute_result"
    }
   ],
   "source": [
    "y"
   ]
  },
  {
   "cell_type": "markdown",
   "id": "c931bf6d",
   "metadata": {},
   "source": [
    "#### Split()\n",
    "* Split() method will split a string into a list\n",
    "* By default string will be seperated by each whitespace character"
   ]
  },
  {
   "cell_type": "code",
   "execution_count": 52,
   "id": "f8780717",
   "metadata": {},
   "outputs": [
    {
     "data": {
      "text/plain": [
       "'This is a string'"
      ]
     },
     "execution_count": 52,
     "metadata": {},
     "output_type": "execute_result"
    }
   ],
   "source": [
    "x"
   ]
  },
  {
   "cell_type": "code",
   "execution_count": 54,
   "id": "7454cf8d",
   "metadata": {},
   "outputs": [
    {
     "data": {
      "text/plain": [
       "['This', 'is', 'a', 'string']"
      ]
     },
     "execution_count": 54,
     "metadata": {},
     "output_type": "execute_result"
    }
   ],
   "source": [
    "x.split()\n",
    "#string will split from the whitespaces"
   ]
  },
  {
   "cell_type": "code",
   "execution_count": 56,
   "id": "7548b86a",
   "metadata": {},
   "outputs": [
    {
     "data": {
      "text/plain": [
       "['This', ' is a', ' string']"
      ]
     },
     "execution_count": 56,
     "metadata": {},
     "output_type": "execute_result"
    }
   ],
   "source": [
    "#split using comma\n",
    "y = 'This, is a, string'\n",
    "y.split(',')"
   ]
  },
  {
   "cell_type": "code",
   "execution_count": 57,
   "id": "bff52914",
   "metadata": {},
   "outputs": [
    {
     "data": {
      "text/plain": [
       "['This,', 'is', 'a,', 'string']"
      ]
     },
     "execution_count": 57,
     "metadata": {},
     "output_type": "execute_result"
    }
   ],
   "source": [
    "y.split()"
   ]
  },
  {
   "cell_type": "markdown",
   "id": "938d703a",
   "metadata": {},
   "source": [
    "#### Strings are immutable\n",
    "* This means value cannot be changed of individual character elements of the string\n",
    "* Individual elements can not be reassigned."
   ]
  },
  {
   "cell_type": "markdown",
   "id": "b67d5c38",
   "metadata": {},
   "source": [
    "### String Concatenation and Formatting"
   ]
  },
  {
   "cell_type": "code",
   "execution_count": 1,
   "id": "d7a737a0",
   "metadata": {},
   "outputs": [
    {
     "data": {
      "text/plain": [
       "'kavinda uthsuka'"
      ]
     },
     "execution_count": 1,
     "metadata": {},
     "output_type": "execute_result"
    }
   ],
   "source": [
    "'kavinda' + ' uthsuka'"
   ]
  },
  {
   "cell_type": "markdown",
   "id": "1a44cd96",
   "metadata": {},
   "source": [
    "#### f string method"
   ]
  },
  {
   "cell_type": "code",
   "execution_count": 2,
   "id": "a45a4ecd",
   "metadata": {},
   "outputs": [],
   "source": [
    "y = 'kavinda'"
   ]
  },
  {
   "cell_type": "code",
   "execution_count": 3,
   "id": "feec9f4e",
   "metadata": {},
   "outputs": [
    {
     "data": {
      "text/plain": [
       "'My name is kavinda'"
      ]
     },
     "execution_count": 3,
     "metadata": {},
     "output_type": "execute_result"
    }
   ],
   "source": [
    "f'My name is {y}'"
   ]
  },
  {
   "cell_type": "markdown",
   "id": "06959484",
   "metadata": {},
   "source": [
    "### Lists\n",
    "* Lists are mutable sequences of values or elements enclosed inside the square brackets\n",
    "* Lists are ordered are allow duplicate variables"
   ]
  },
  {
   "cell_type": "code",
   "execution_count": 4,
   "id": "69779085",
   "metadata": {},
   "outputs": [],
   "source": [
    "#number list\n",
    "list_1 = [1,2,3,4,5,6]"
   ]
  },
  {
   "cell_type": "code",
   "execution_count": 5,
   "id": "3e55d296",
   "metadata": {},
   "outputs": [],
   "source": [
    "#string list\n",
    "list_2 = ['kavinda','uthsuka','waduge','omali','dilriukshi']"
   ]
  },
  {
   "cell_type": "code",
   "execution_count": 6,
   "id": "ede1624c",
   "metadata": {},
   "outputs": [],
   "source": [
    "#multiple data type list\n",
    "list_3 = [26, 'kavinda',32, 'uthsuka']"
   ]
  },
  {
   "cell_type": "code",
   "execution_count": 7,
   "id": "83102d55",
   "metadata": {},
   "outputs": [
    {
     "data": {
      "text/plain": [
       "[1, 2, 3, 4, 5, 6]"
      ]
     },
     "execution_count": 7,
     "metadata": {},
     "output_type": "execute_result"
    }
   ],
   "source": [
    "list_1"
   ]
  },
  {
   "cell_type": "code",
   "execution_count": 8,
   "id": "a2edffa1",
   "metadata": {},
   "outputs": [
    {
     "data": {
      "text/plain": [
       "4"
      ]
     },
     "execution_count": 8,
     "metadata": {},
     "output_type": "execute_result"
    }
   ],
   "source": [
    "#get 4 from list_1\n",
    "list_1[3]"
   ]
  },
  {
   "cell_type": "code",
   "execution_count": 10,
   "id": "ff87292c",
   "metadata": {},
   "outputs": [
    {
     "data": {
      "text/plain": [
       "4"
      ]
     },
     "execution_count": 10,
     "metadata": {},
     "output_type": "execute_result"
    }
   ],
   "source": [
    "#reverse indexing. get 4 from list_1\n",
    "list_1[-3]"
   ]
  },
  {
   "cell_type": "code",
   "execution_count": 11,
   "id": "cf3a5803",
   "metadata": {},
   "outputs": [
    {
     "data": {
      "text/plain": [
       "[2, 3, 4]"
      ]
     },
     "execution_count": 11,
     "metadata": {},
     "output_type": "execute_result"
    }
   ],
   "source": [
    "#get 2,3,4 from the list\n",
    "list_1[1:4]"
   ]
  },
  {
   "cell_type": "code",
   "execution_count": 12,
   "id": "270b2bf8",
   "metadata": {},
   "outputs": [
    {
     "data": {
      "text/plain": [
       "int"
      ]
     },
     "execution_count": 12,
     "metadata": {},
     "output_type": "execute_result"
    }
   ],
   "source": [
    "#check the data type of an element in the list\n",
    "type(list_1[3])"
   ]
  },
  {
   "cell_type": "code",
   "execution_count": 13,
   "id": "6661f991",
   "metadata": {},
   "outputs": [],
   "source": [
    "#create a list inside a list / embedded list\n",
    "list_4 = [3,4,'kavinda',list_3]"
   ]
  },
  {
   "cell_type": "code",
   "execution_count": 14,
   "id": "77110bed",
   "metadata": {},
   "outputs": [
    {
     "data": {
      "text/plain": [
       "[3, 4, 'kavinda', [26, 'kavinda', 32, 'uthsuka']]"
      ]
     },
     "execution_count": 14,
     "metadata": {},
     "output_type": "execute_result"
    }
   ],
   "source": [
    "list_4"
   ]
  },
  {
   "cell_type": "code",
   "execution_count": 15,
   "id": "6d26f59d",
   "metadata": {},
   "outputs": [
    {
     "data": {
      "text/plain": [
       "[26, 'kavinda', 32, 'uthsuka']"
      ]
     },
     "execution_count": 15,
     "metadata": {},
     "output_type": "execute_result"
    }
   ],
   "source": [
    "list_4[3]"
   ]
  },
  {
   "cell_type": "code",
   "execution_count": 16,
   "id": "9973bfce",
   "metadata": {},
   "outputs": [
    {
     "data": {
      "text/plain": [
       "'uthsuka'"
      ]
     },
     "execution_count": 16,
     "metadata": {},
     "output_type": "execute_result"
    }
   ],
   "source": [
    "#get the 'uthuska' as the output\n",
    "list_4[3][3]"
   ]
  },
  {
   "cell_type": "markdown",
   "id": "82dc6659",
   "metadata": {},
   "source": [
    "#### List are Mutable"
   ]
  },
  {
   "cell_type": "code",
   "execution_count": 17,
   "id": "9de1c55a",
   "metadata": {},
   "outputs": [
    {
     "data": {
      "text/plain": [
       "[1, 2, 3, 4, 5, 6]"
      ]
     },
     "execution_count": 17,
     "metadata": {},
     "output_type": "execute_result"
    }
   ],
   "source": [
    "list_1"
   ]
  },
  {
   "cell_type": "code",
   "execution_count": 18,
   "id": "dc7581de",
   "metadata": {},
   "outputs": [],
   "source": [
    "#add 'hello' at the end of the list_1\n",
    "list_1[5] = 'hello'"
   ]
  },
  {
   "cell_type": "code",
   "execution_count": 19,
   "id": "b3ea4690",
   "metadata": {},
   "outputs": [
    {
     "data": {
      "text/plain": [
       "[1, 2, 3, 4, 5, 'hello']"
      ]
     },
     "execution_count": 19,
     "metadata": {},
     "output_type": "execute_result"
    }
   ],
   "source": [
    "list_1"
   ]
  },
  {
   "cell_type": "markdown",
   "id": "50df508c",
   "metadata": {},
   "source": [
    "#### List Methods"
   ]
  },
  {
   "cell_type": "code",
   "execution_count": 20,
   "id": "b2a5b7a2",
   "metadata": {},
   "outputs": [],
   "source": [
    "# 'append' method add item to end of the list\n",
    "list_1.append('good bye')"
   ]
  },
  {
   "cell_type": "code",
   "execution_count": 21,
   "id": "602fbee9",
   "metadata": {},
   "outputs": [
    {
     "data": {
      "text/plain": [
       "[1, 2, 3, 4, 5, 'hello', 'good bye']"
      ]
     },
     "execution_count": 21,
     "metadata": {},
     "output_type": "execute_result"
    }
   ],
   "source": [
    "list_1"
   ]
  },
  {
   "cell_type": "code",
   "execution_count": 22,
   "id": "85a01e90",
   "metadata": {},
   "outputs": [],
   "source": [
    "#append a list to another list/ embedded list\n",
    "list_1.append(list_2)"
   ]
  },
  {
   "cell_type": "code",
   "execution_count": 23,
   "id": "418177dd",
   "metadata": {},
   "outputs": [
    {
     "data": {
      "text/plain": [
       "[1,\n",
       " 2,\n",
       " 3,\n",
       " 4,\n",
       " 5,\n",
       " 'hello',\n",
       " 'good bye',\n",
       " ['kavinda', 'uthsuka', 'waduge', 'omali', 'dilriukshi']]"
      ]
     },
     "execution_count": 23,
     "metadata": {},
     "output_type": "execute_result"
    }
   ],
   "source": [
    "list_1"
   ]
  },
  {
   "cell_type": "code",
   "execution_count": 24,
   "id": "5987d942",
   "metadata": {},
   "outputs": [],
   "source": [
    "#extend the list not the embedding\n",
    "list_1.extend(list_2)"
   ]
  },
  {
   "cell_type": "code",
   "execution_count": 25,
   "id": "6959a83f",
   "metadata": {},
   "outputs": [
    {
     "data": {
      "text/plain": [
       "[1,\n",
       " 2,\n",
       " 3,\n",
       " 4,\n",
       " 5,\n",
       " 'hello',\n",
       " 'good bye',\n",
       " ['kavinda', 'uthsuka', 'waduge', 'omali', 'dilriukshi'],\n",
       " 'kavinda',\n",
       " 'uthsuka',\n",
       " 'waduge',\n",
       " 'omali',\n",
       " 'dilriukshi']"
      ]
     },
     "execution_count": 25,
     "metadata": {},
     "output_type": "execute_result"
    }
   ],
   "source": [
    "list_1"
   ]
  },
  {
   "cell_type": "code",
   "execution_count": 26,
   "id": "e4add2a2",
   "metadata": {},
   "outputs": [],
   "source": [
    "#remove 3 from the list\n",
    "list_1.remove(3)"
   ]
  },
  {
   "cell_type": "code",
   "execution_count": 27,
   "id": "1d1abd50",
   "metadata": {},
   "outputs": [
    {
     "data": {
      "text/plain": [
       "[1,\n",
       " 2,\n",
       " 4,\n",
       " 5,\n",
       " 'hello',\n",
       " 'good bye',\n",
       " ['kavinda', 'uthsuka', 'waduge', 'omali', 'dilriukshi'],\n",
       " 'kavinda',\n",
       " 'uthsuka',\n",
       " 'waduge',\n",
       " 'omali',\n",
       " 'dilriukshi']"
      ]
     },
     "execution_count": 27,
     "metadata": {},
     "output_type": "execute_result"
    }
   ],
   "source": [
    "list_1"
   ]
  },
  {
   "cell_type": "code",
   "execution_count": 28,
   "id": "adad5f17",
   "metadata": {},
   "outputs": [],
   "source": [
    "list_1.remove(['kavinda', 'uthsuka', 'waduge', 'omali', 'dilriukshi'])"
   ]
  },
  {
   "cell_type": "code",
   "execution_count": 29,
   "id": "47a27df1",
   "metadata": {},
   "outputs": [
    {
     "data": {
      "text/plain": [
       "[1,\n",
       " 2,\n",
       " 4,\n",
       " 5,\n",
       " 'hello',\n",
       " 'good bye',\n",
       " 'kavinda',\n",
       " 'uthsuka',\n",
       " 'waduge',\n",
       " 'omali',\n",
       " 'dilriukshi']"
      ]
     },
     "execution_count": 29,
     "metadata": {},
     "output_type": "execute_result"
    }
   ],
   "source": [
    "list_1"
   ]
  },
  {
   "cell_type": "code",
   "execution_count": 30,
   "id": "ab46b476",
   "metadata": {},
   "outputs": [
    {
     "data": {
      "text/plain": [
       "'dilriukshi'"
      ]
     },
     "execution_count": 30,
     "metadata": {},
     "output_type": "execute_result"
    }
   ],
   "source": [
    "#remove last item of the list\n",
    "list_1.pop()"
   ]
  },
  {
   "cell_type": "code",
   "execution_count": 31,
   "id": "2d765154",
   "metadata": {},
   "outputs": [],
   "source": [
    "#take the remove item to a variable\n",
    "remove_item = list_1.pop()"
   ]
  },
  {
   "cell_type": "code",
   "execution_count": 32,
   "id": "059b1d34",
   "metadata": {},
   "outputs": [
    {
     "data": {
      "text/plain": [
       "'omali'"
      ]
     },
     "execution_count": 32,
     "metadata": {},
     "output_type": "execute_result"
    }
   ],
   "source": [
    "remove_item"
   ]
  },
  {
   "cell_type": "markdown",
   "id": "5cf10054",
   "metadata": {},
   "source": [
    "* remove() doesn't give a return value but pop() gives a return value"
   ]
  },
  {
   "cell_type": "markdown",
   "id": "43e08f64",
   "metadata": {},
   "source": [
    "#### insert() function"
   ]
  },
  {
   "cell_type": "code",
   "execution_count": 34,
   "id": "c78e0eb3",
   "metadata": {},
   "outputs": [],
   "source": [
    "#add 2000 as the third item\n",
    "list_1.insert(2,2000)"
   ]
  },
  {
   "cell_type": "code",
   "execution_count": 35,
   "id": "bce795c6",
   "metadata": {},
   "outputs": [
    {
     "data": {
      "text/plain": [
       "[1, 2, 2000, 4, 5, 'hello', 'good bye', 'kavinda', 'uthsuka', 'waduge']"
      ]
     },
     "execution_count": 35,
     "metadata": {},
     "output_type": "execute_result"
    }
   ],
   "source": [
    "list_1"
   ]
  },
  {
   "cell_type": "markdown",
   "id": "d2ca2a34",
   "metadata": {},
   "source": [
    "### Dictionaries\n",
    "* Dictionaries store data in key value pairs, these key value pairs are written as 'key:value'.\n",
    "* Dictionaries are ordered, mutable and do not allow for the duplicate objects."
   ]
  },
  {
   "cell_type": "code",
   "execution_count": 36,
   "id": "49d162a7",
   "metadata": {},
   "outputs": [],
   "source": [
    "dict1 = {'brand' : 'ford', 'cost' : 25000}"
   ]
  },
  {
   "cell_type": "code",
   "execution_count": 37,
   "id": "1ff72b1a",
   "metadata": {},
   "outputs": [
    {
     "data": {
      "text/plain": [
       "{'brand': 'ford', 'cost': 25000}"
      ]
     },
     "execution_count": 37,
     "metadata": {},
     "output_type": "execute_result"
    }
   ],
   "source": [
    "dict1"
   ]
  },
  {
   "cell_type": "code",
   "execution_count": 39,
   "id": "e06d0ed3",
   "metadata": {},
   "outputs": [
    {
     "data": {
      "text/plain": [
       "'ford'"
      ]
     },
     "execution_count": 39,
     "metadata": {},
     "output_type": "execute_result"
    }
   ],
   "source": [
    "#get the brand name by calling the key name\n",
    "dict1['brand']"
   ]
  },
  {
   "cell_type": "code",
   "execution_count": 40,
   "id": "4154e64b",
   "metadata": {},
   "outputs": [],
   "source": [
    "#change the brand name\n",
    "dict1['brand'] = 'audi'"
   ]
  },
  {
   "cell_type": "code",
   "execution_count": 41,
   "id": "70dd817d",
   "metadata": {},
   "outputs": [
    {
     "data": {
      "text/plain": [
       "{'brand': 'audi', 'cost': 25000}"
      ]
     },
     "execution_count": 41,
     "metadata": {},
     "output_type": "execute_result"
    }
   ],
   "source": [
    "dict1"
   ]
  },
  {
   "cell_type": "code",
   "execution_count": 42,
   "id": "d534e44e",
   "metadata": {},
   "outputs": [],
   "source": [
    "#add new key and value to the dictionary\n",
    "dict1['transmission'] = 'Manual'"
   ]
  },
  {
   "cell_type": "code",
   "execution_count": 43,
   "id": "22c0b2fa",
   "metadata": {},
   "outputs": [
    {
     "data": {
      "text/plain": [
       "{'brand': 'audi', 'cost': 25000, 'transmission': 'Manual'}"
      ]
     },
     "execution_count": 43,
     "metadata": {},
     "output_type": "execute_result"
    }
   ],
   "source": [
    "dict1"
   ]
  },
  {
   "cell_type": "code",
   "execution_count": 44,
   "id": "aeb6f2f6",
   "metadata": {},
   "outputs": [],
   "source": [
    "#embedded dictionaries /  add a dictionary inside a dictionary\n",
    "dict1['other attributes'] = {'color' : 'black', 'year' : 2022}"
   ]
  },
  {
   "cell_type": "code",
   "execution_count": 45,
   "id": "921ef6f0",
   "metadata": {},
   "outputs": [
    {
     "data": {
      "text/plain": [
       "{'brand': 'audi',\n",
       " 'cost': 25000,\n",
       " 'transmission': 'Manual',\n",
       " 'other attributes': {'color': 'black', 'year': 2022}}"
      ]
     },
     "execution_count": 45,
     "metadata": {},
     "output_type": "execute_result"
    }
   ],
   "source": [
    "dict1"
   ]
  },
  {
   "cell_type": "code",
   "execution_count": 47,
   "id": "fb0c8730",
   "metadata": {},
   "outputs": [
    {
     "data": {
      "text/plain": [
       "2022"
      ]
     },
     "execution_count": 47,
     "metadata": {},
     "output_type": "execute_result"
    }
   ],
   "source": [
    "#take the value of the year keyword\n",
    "dict1['other attributes']['year']"
   ]
  },
  {
   "cell_type": "code",
   "execution_count": 48,
   "id": "ccd52e2a",
   "metadata": {},
   "outputs": [],
   "source": [
    "#add a list to the dictionary\n",
    "dict1['previous_owners'] = ['Mike','Shelly','Nitin']"
   ]
  },
  {
   "cell_type": "code",
   "execution_count": 49,
   "id": "9a67ffed",
   "metadata": {},
   "outputs": [
    {
     "data": {
      "text/plain": [
       "{'brand': 'audi',\n",
       " 'cost': 25000,\n",
       " 'transmission': 'Manual',\n",
       " 'other attributes': {'color': 'black', 'year': 2022},\n",
       " 'previous_owners': ['Mike', 'Shelly', 'Nitin']}"
      ]
     },
     "execution_count": 49,
     "metadata": {},
     "output_type": "execute_result"
    }
   ],
   "source": [
    "dict1"
   ]
  },
  {
   "cell_type": "code",
   "execution_count": 51,
   "id": "bf01e331",
   "metadata": {},
   "outputs": [
    {
     "data": {
      "text/plain": [
       "'Mike'"
      ]
     },
     "execution_count": 51,
     "metadata": {},
     "output_type": "execute_result"
    }
   ],
   "source": [
    "#get the first index value of the list that is inside the dictionary\n",
    "dict1['previous_owners'][0]"
   ]
  },
  {
   "cell_type": "markdown",
   "id": "9aeb6cdc",
   "metadata": {},
   "source": [
    "#### Dictionary methods"
   ]
  },
  {
   "cell_type": "code",
   "execution_count": 52,
   "id": "dae2e717",
   "metadata": {},
   "outputs": [
    {
     "data": {
      "text/plain": [
       "['Mike', 'Shelly', 'Nitin']"
      ]
     },
     "execution_count": 52,
     "metadata": {},
     "output_type": "execute_result"
    }
   ],
   "source": [
    "#remove specific keys and values from the dictioanry\n",
    "dict1.pop('previous_owners')"
   ]
  },
  {
   "cell_type": "code",
   "execution_count": 53,
   "id": "3eba638c",
   "metadata": {},
   "outputs": [
    {
     "data": {
      "text/plain": [
       "{'brand': 'audi',\n",
       " 'cost': 25000,\n",
       " 'transmission': 'Manual',\n",
       " 'other attributes': {'color': 'black', 'year': 2022}}"
      ]
     },
     "execution_count": 53,
     "metadata": {},
     "output_type": "execute_result"
    }
   ],
   "source": [
    "dict1"
   ]
  },
  {
   "cell_type": "code",
   "execution_count": 54,
   "id": "ed2504e4",
   "metadata": {},
   "outputs": [
    {
     "data": {
      "text/plain": [
       "dict_items([('brand', 'audi'), ('cost', 25000), ('transmission', 'Manual'), ('other attributes', {'color': 'black', 'year': 2022})])"
      ]
     },
     "execution_count": 54,
     "metadata": {},
     "output_type": "execute_result"
    }
   ],
   "source": [
    "#get all the key:value pairs\n",
    "dict1.items()"
   ]
  },
  {
   "cell_type": "code",
   "execution_count": 55,
   "id": "df741a26",
   "metadata": {},
   "outputs": [
    {
     "data": {
      "text/plain": [
       "dict_keys(['brand', 'cost', 'transmission', 'other attributes'])"
      ]
     },
     "execution_count": 55,
     "metadata": {},
     "output_type": "execute_result"
    }
   ],
   "source": [
    "#get all the keys in the dictionary\n",
    "dict1.keys()"
   ]
  },
  {
   "cell_type": "code",
   "execution_count": 56,
   "id": "cf4b2c5c",
   "metadata": {},
   "outputs": [
    {
     "data": {
      "text/plain": [
       "dict_values(['audi', 25000, 'Manual', {'color': 'black', 'year': 2022}])"
      ]
     },
     "execution_count": 56,
     "metadata": {},
     "output_type": "execute_result"
    }
   ],
   "source": [
    "#get all the values from the dictionary\n",
    "dict1.values()"
   ]
  },
  {
   "cell_type": "markdown",
   "id": "c6774e39",
   "metadata": {},
   "source": [
    "### Tuples\n",
    "* Tuples are ordered sequence of values or elements that are enclosed with round brackets\n",
    "* Tuples can store multiple items into a single variable\n",
    "* Tuples allow duplicate variables\n",
    "* Tuples are immutable"
   ]
  },
  {
   "cell_type": "code",
   "execution_count": 57,
   "id": "1ab84334",
   "metadata": {},
   "outputs": [],
   "source": [
    "x = (1,2,2,3)"
   ]
  },
  {
   "cell_type": "code",
   "execution_count": 58,
   "id": "3f9b00cf",
   "metadata": {},
   "outputs": [
    {
     "data": {
      "text/plain": [
       "(1, 2, 2, 3)"
      ]
     },
     "execution_count": 58,
     "metadata": {},
     "output_type": "execute_result"
    }
   ],
   "source": [
    "x"
   ]
  },
  {
   "cell_type": "code",
   "execution_count": 61,
   "id": "e2f9309a",
   "metadata": {},
   "outputs": [],
   "source": [
    "#create a tuple with list and dictionary\n",
    "y = (1, 'kavinda', [1,2,3], {'key1':'value1'})"
   ]
  },
  {
   "cell_type": "code",
   "execution_count": 62,
   "id": "c8d8c727",
   "metadata": {},
   "outputs": [
    {
     "data": {
      "text/plain": [
       "(1, 'kavinda', [1, 2, 3], {'key1': 'value1'})"
      ]
     },
     "execution_count": 62,
     "metadata": {},
     "output_type": "execute_result"
    }
   ],
   "source": [
    "y"
   ]
  },
  {
   "cell_type": "markdown",
   "id": "2866af3a",
   "metadata": {},
   "source": [
    "#### Tuple methods"
   ]
  },
  {
   "cell_type": "code",
   "execution_count": 63,
   "id": "1e7b2836",
   "metadata": {},
   "outputs": [],
   "source": [
    "x = (1,1,1,2,2,3,3,3,3)"
   ]
  },
  {
   "cell_type": "code",
   "execution_count": 64,
   "id": "ac94f49d",
   "metadata": {},
   "outputs": [
    {
     "data": {
      "text/plain": [
       "(1, 1, 1, 2, 2, 3, 3, 3, 3)"
      ]
     },
     "execution_count": 64,
     "metadata": {},
     "output_type": "execute_result"
    }
   ],
   "source": [
    "x"
   ]
  },
  {
   "cell_type": "code",
   "execution_count": 65,
   "id": "23cd03f6",
   "metadata": {},
   "outputs": [
    {
     "data": {
      "text/plain": [
       "3"
      ]
     },
     "execution_count": 65,
     "metadata": {},
     "output_type": "execute_result"
    }
   ],
   "source": [
    "#count the number of '1's in the tuple\n",
    "x.count(1)"
   ]
  },
  {
   "cell_type": "code",
   "execution_count": 66,
   "id": "410cc306",
   "metadata": {},
   "outputs": [
    {
     "data": {
      "text/plain": [
       "5"
      ]
     },
     "execution_count": 66,
     "metadata": {},
     "output_type": "execute_result"
    }
   ],
   "source": [
    "#get the index of the '3'\n",
    "x.index(3)"
   ]
  },
  {
   "cell_type": "markdown",
   "id": "ffcf2f38",
   "metadata": {},
   "source": [
    "### Sets\n",
    "* Sets are mutable sequence of values or elemnts enclosed inside curly braces\n",
    "* Sets can store multple items inside the one variable\n",
    "* Sets are unordered\n",
    "* Sets DO NOT allow duplicate values\n",
    "* We can't index or slice sets"
   ]
  },
  {
   "cell_type": "code",
   "execution_count": 73,
   "id": "1797623c",
   "metadata": {},
   "outputs": [],
   "source": [
    "x = {1,2,3}"
   ]
  },
  {
   "cell_type": "code",
   "execution_count": 74,
   "id": "09bc66da",
   "metadata": {},
   "outputs": [
    {
     "data": {
      "text/plain": [
       "{1, 2, 3}"
      ]
     },
     "execution_count": 74,
     "metadata": {},
     "output_type": "execute_result"
    }
   ],
   "source": [
    "x"
   ]
  },
  {
   "cell_type": "code",
   "execution_count": 75,
   "id": "068783f9",
   "metadata": {},
   "outputs": [],
   "source": [
    "#create a empty set\n",
    "y = set()"
   ]
  },
  {
   "cell_type": "code",
   "execution_count": 76,
   "id": "de88c50d",
   "metadata": {},
   "outputs": [
    {
     "data": {
      "text/plain": [
       "set()"
      ]
     },
     "execution_count": 76,
     "metadata": {},
     "output_type": "execute_result"
    }
   ],
   "source": [
    "y"
   ]
  },
  {
   "cell_type": "markdown",
   "id": "6e779b3c",
   "metadata": {},
   "source": [
    "#### set methods"
   ]
  },
  {
   "cell_type": "code",
   "execution_count": 77,
   "id": "5531238f",
   "metadata": {},
   "outputs": [],
   "source": [
    "#add 5 to the set\n",
    "x.add(5)"
   ]
  },
  {
   "cell_type": "code",
   "execution_count": 78,
   "id": "8efc7a34",
   "metadata": {},
   "outputs": [
    {
     "data": {
      "text/plain": [
       "{1, 2, 3, 5}"
      ]
     },
     "execution_count": 78,
     "metadata": {},
     "output_type": "execute_result"
    }
   ],
   "source": [
    "x"
   ]
  },
  {
   "cell_type": "code",
   "execution_count": 79,
   "id": "340bffd8",
   "metadata": {},
   "outputs": [],
   "source": [
    "#do not represent the duplicate values in the set\n",
    "x.add(5)"
   ]
  },
  {
   "cell_type": "code",
   "execution_count": 80,
   "id": "38d2e86a",
   "metadata": {},
   "outputs": [
    {
     "data": {
      "text/plain": [
       "{1, 2, 3, 5}"
      ]
     },
     "execution_count": 80,
     "metadata": {},
     "output_type": "execute_result"
    }
   ],
   "source": [
    "x"
   ]
  },
  {
   "cell_type": "code",
   "execution_count": 81,
   "id": "991ac86d",
   "metadata": {},
   "outputs": [],
   "source": [
    "y = {1,1,1,1,1,2}"
   ]
  },
  {
   "cell_type": "code",
   "execution_count": 82,
   "id": "b24cc290",
   "metadata": {},
   "outputs": [
    {
     "data": {
      "text/plain": [
       "{1, 2}"
      ]
     },
     "execution_count": 82,
     "metadata": {},
     "output_type": "execute_result"
    }
   ],
   "source": [
    "y"
   ]
  },
  {
   "cell_type": "code",
   "execution_count": 83,
   "id": "2d327334",
   "metadata": {},
   "outputs": [
    {
     "data": {
      "text/plain": [
       "[1, 1, 2, 3]"
      ]
     },
     "execution_count": 83,
     "metadata": {},
     "output_type": "execute_result"
    }
   ],
   "source": [
    "#convert list to a set\n",
    "list1 = [1,1,2,3]\n",
    "list1"
   ]
  },
  {
   "cell_type": "code",
   "execution_count": 84,
   "id": "15de5519",
   "metadata": {},
   "outputs": [
    {
     "data": {
      "text/plain": [
       "{1, 2, 3}"
      ]
     },
     "execution_count": 84,
     "metadata": {},
     "output_type": "execute_result"
    }
   ],
   "source": [
    "set1 = set(list1)\n",
    "set1"
   ]
  },
  {
   "cell_type": "code",
   "execution_count": 85,
   "id": "17e5f0bf",
   "metadata": {},
   "outputs": [
    {
     "data": {
      "text/plain": [
       "{1, 6}"
      ]
     },
     "execution_count": 85,
     "metadata": {},
     "output_type": "execute_result"
    }
   ],
   "source": [
    "#get the matching elemnts of two sets to a one set using intersection method\n",
    "x = {1,2,3,4,5,6}\n",
    "y = {1,1,6,6,7,9}\n",
    "x.intersection(y)"
   ]
  },
  {
   "cell_type": "markdown",
   "id": "2b1f27e0",
   "metadata": {},
   "source": [
    "### Booleans\n",
    "* A boolean is a data type with two positive values which are True and False"
   ]
  },
  {
   "cell_type": "code",
   "execution_count": 86,
   "id": "b43d87d2",
   "metadata": {},
   "outputs": [
    {
     "data": {
      "text/plain": [
       "bool"
      ]
     },
     "execution_count": 86,
     "metadata": {},
     "output_type": "execute_result"
    }
   ],
   "source": [
    "type(True)"
   ]
  },
  {
   "cell_type": "code",
   "execution_count": 87,
   "id": "981307c6",
   "metadata": {},
   "outputs": [
    {
     "data": {
      "text/plain": [
       "bool"
      ]
     },
     "execution_count": 87,
     "metadata": {},
     "output_type": "execute_result"
    }
   ],
   "source": [
    "type(False)"
   ]
  },
  {
   "cell_type": "code",
   "execution_count": null,
   "id": "1fdc13be",
   "metadata": {},
   "outputs": [],
   "source": []
  }
 ],
 "metadata": {
  "kernelspec": {
   "display_name": "Python 3 (ipykernel)",
   "language": "python",
   "name": "python3"
  },
  "language_info": {
   "codemirror_mode": {
    "name": "ipython",
    "version": 3
   },
   "file_extension": ".py",
   "mimetype": "text/x-python",
   "name": "python",
   "nbconvert_exporter": "python",
   "pygments_lexer": "ipython3",
   "version": "3.9.13"
  }
 },
 "nbformat": 4,
 "nbformat_minor": 5
}
